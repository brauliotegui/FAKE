{
 "cells": [
  {
   "cell_type": "code",
   "execution_count": 1,
   "metadata": {},
   "outputs": [],
   "source": [
    "import pandas as pd\n",
    "import numpy as np\n",
    "import os\n",
    "\n",
    "import matplotlib.pyplot as plt\n",
    "import seaborn as sns"
   ]
  },
  {
   "cell_type": "markdown",
   "metadata": {},
   "source": [
    "---"
   ]
  },
  {
   "cell_type": "markdown",
   "metadata": {},
   "source": [
    "# First Dataset\n",
    "\n",
    "This Dataset turned out to no be so clean, and since the other dataset -- Fake.BR corpus -- has enough, and clean, data, this one will be discarded."
   ]
  },
  {
   "cell_type": "code",
   "execution_count": 2,
   "metadata": {},
   "outputs": [],
   "source": [
    "df0 = pd.read_csv('Data/FACTCKBR.tsv', sep='\\t')"
   ]
  },
  {
   "cell_type": "code",
   "execution_count": 3,
   "metadata": {},
   "outputs": [
    {
     "name": "stdout",
     "output_type": "stream",
     "text": [
      "<class 'pandas.core.frame.DataFrame'>\n",
      "RangeIndex: 1313 entries, 0 to 1312\n",
      "Data columns (total 9 columns):\n",
      " #   Column           Non-Null Count  Dtype  \n",
      "---  ------           --------------  -----  \n",
      " 0   URL              1313 non-null   object \n",
      " 1   Author           1313 non-null   object \n",
      " 2   datePublished    1313 non-null   object \n",
      " 3   claimReviewed    1300 non-null   object \n",
      " 4   reviewBody       1301 non-null   object \n",
      " 5   title            1313 non-null   object \n",
      " 6   ratingValue      1309 non-null   float64\n",
      " 7   bestRating       1313 non-null   int64  \n",
      " 8   alternativeName  1309 non-null   object \n",
      "dtypes: float64(1), int64(1), object(7)\n",
      "memory usage: 92.4+ KB\n"
     ]
    }
   ],
   "source": [
    "df0.info()"
   ]
  },
  {
   "cell_type": "code",
   "execution_count": 4,
   "metadata": {},
   "outputs": [
    {
     "data": {
      "text/html": [
       "<div>\n",
       "<style scoped>\n",
       "    .dataframe tbody tr th:only-of-type {\n",
       "        vertical-align: middle;\n",
       "    }\n",
       "\n",
       "    .dataframe tbody tr th {\n",
       "        vertical-align: top;\n",
       "    }\n",
       "\n",
       "    .dataframe thead th {\n",
       "        text-align: right;\n",
       "    }\n",
       "</style>\n",
       "<table border=\"1\" class=\"dataframe\">\n",
       "  <thead>\n",
       "    <tr style=\"text-align: right;\">\n",
       "      <th></th>\n",
       "      <th>URL</th>\n",
       "      <th>Author</th>\n",
       "      <th>datePublished</th>\n",
       "      <th>claimReviewed</th>\n",
       "      <th>reviewBody</th>\n",
       "      <th>title</th>\n",
       "      <th>ratingValue</th>\n",
       "      <th>bestRating</th>\n",
       "      <th>alternativeName</th>\n",
       "    </tr>\n",
       "  </thead>\n",
       "  <tbody>\n",
       "    <tr>\n",
       "      <th>0</th>\n",
       "      <td>https://aosfatos.org/noticias/governo-bolsonar...</td>\n",
       "      <td>https:www.aosfatos.org</td>\n",
       "      <td>2019-07-22</td>\n",
       "      <td>Espaço dedicado para os eleitores do Bolsonaro...</td>\n",
       "      <td>Publicações que circulam nas redes sociais vej...</td>\n",
       "      <td>Governo Bolsonaro não suspendeu distribuição d...</td>\n",
       "      <td>1.0</td>\n",
       "      <td>5</td>\n",
       "      <td>falso</td>\n",
       "    </tr>\n",
       "    <tr>\n",
       "      <th>1</th>\n",
       "      <td>https://aosfatos.org/noticias/nao-e-miriam-lei...</td>\n",
       "      <td>https:www.aosfatos.org</td>\n",
       "      <td>2019-07-22</td>\n",
       "      <td>Vos apresento a funcionária protegida pela Glo...</td>\n",
       "      <td>Uma foto de um treinamento de defesa contra as...</td>\n",
       "      <td>Não é Miriam Leitão quem segura fuzil ao lado ...</td>\n",
       "      <td>1.0</td>\n",
       "      <td>5</td>\n",
       "      <td>falso</td>\n",
       "    </tr>\n",
       "    <tr>\n",
       "      <th>2</th>\n",
       "      <td>https://aosfatos.org/noticias/nao-e-verdade-qu...</td>\n",
       "      <td>https:www.aosfatos.org</td>\n",
       "      <td>2019-07-22</td>\n",
       "      <td>Você sabia que Benedita da Silva já foi embaix...</td>\n",
       "      <td>falsa a informação de que a deputada federal ...</td>\n",
       "      <td>Não é verdade que Benedita da Silva foi embaix...</td>\n",
       "      <td>1.0</td>\n",
       "      <td>5</td>\n",
       "      <td>falso</td>\n",
       "    </tr>\n",
       "  </tbody>\n",
       "</table>\n",
       "</div>"
      ],
      "text/plain": [
       "                                                 URL                  Author  \\\n",
       "0  https://aosfatos.org/noticias/governo-bolsonar...  https:www.aosfatos.org   \n",
       "1  https://aosfatos.org/noticias/nao-e-miriam-lei...  https:www.aosfatos.org   \n",
       "2  https://aosfatos.org/noticias/nao-e-verdade-qu...  https:www.aosfatos.org   \n",
       "\n",
       "  datePublished                                      claimReviewed  \\\n",
       "0    2019-07-22  Espaço dedicado para os eleitores do Bolsonaro...   \n",
       "1    2019-07-22  Vos apresento a funcionária protegida pela Glo...   \n",
       "2    2019-07-22  Você sabia que Benedita da Silva já foi embaix...   \n",
       "\n",
       "                                          reviewBody  \\\n",
       "0  Publicações que circulam nas redes sociais vej...   \n",
       "1  Uma foto de um treinamento de defesa contra as...   \n",
       "2   falsa a informação de que a deputada federal ...   \n",
       "\n",
       "                                               title  ratingValue  bestRating  \\\n",
       "0  Governo Bolsonaro não suspendeu distribuição d...          1.0           5   \n",
       "1  Não é Miriam Leitão quem segura fuzil ao lado ...          1.0           5   \n",
       "2  Não é verdade que Benedita da Silva foi embaix...          1.0           5   \n",
       "\n",
       "  alternativeName  \n",
       "0           falso  \n",
       "1           falso  \n",
       "2           falso  "
      ]
     },
     "execution_count": 4,
     "metadata": {},
     "output_type": "execute_result"
    }
   ],
   "source": [
    "df0.head(3)"
   ]
  },
  {
   "cell_type": "code",
   "execution_count": 5,
   "metadata": {},
   "outputs": [
    {
     "data": {
      "text/plain": [
       "Falso                      615\n",
       "falso                      328\n",
       "Verdadeiro                 119\n",
       "Exagerado                   87\n",
       "Sem contexto                42\n",
       "distorcido                  29\n",
       "Distorcido                  25\n",
       "Impossível provar           20\n",
       "Discutível                  12\n",
       "Ainda é cedo para dizer      6\n",
       "Subestimado                  6\n",
       "insustentável                5\n",
       "Verdadeiro, mas              4\n",
       "exagerado                    4\n",
       "De olho                      3\n",
       "impreciso                    2\n",
       "verdadeiro                   1\n",
       "outros                       1\n",
       "Name: alternativeName, dtype: int64"
      ]
     },
     "execution_count": 5,
     "metadata": {},
     "output_type": "execute_result"
    }
   ],
   "source": [
    "df0['alternativeName'].value_counts()"
   ]
  },
  {
   "cell_type": "markdown",
   "metadata": {},
   "source": [
    "---"
   ]
  },
  {
   "cell_type": "markdown",
   "metadata": {},
   "source": [
    "# Second Dataset\n",
    "\n",
    "From **Fake.Br Corpus** \n",
    "- This corpus is composed of aligned true and fake news, which analyzes to uncover some of their linguistic characteristics.\n",
    "- The corpus – simply called “Fake.Br Corpus” – is composed of true and fake news that were manually aligned, focusing only on Brazilian Portuguese.\n",
    "- manual step was necessary to check the details of the fake news and if they were in fact fake, as we wanted to guarantee the quality and reliability of the corpus.\n",
    "- \"We manually analyzed and collected all the available fake news (including their titles) in the corresponding time period from 4 websites: Diario do Brasil (3,338 news10), A Folha do Brasil (190 news), The Jornal Brasil (65 news) e Top Five TV (7 news). Finally, we filtered out those news that presented half truths11, keeping only the ones that were entirely fake.\"\n",
    "- \"The true news in the corpus were collected in a semiautomatic way. In a first step, using a web crawler, we collected news from major news agencies in Brazil, namely, G1, Folha de S ̃ao Paulo and Estad ̃ao.\"\n",
    "- \"About 40,000 true news were collected this way. Then, for each fake news, we applied a lexical similarity measure, choosing the most similar ones to the fake news, and performed a final manual verification to guarantee that the fake and true news were in fact subject-related.\"\n",
    "- \"To guarantee a fair classification, we have normalized the size of the texts (in number of words) by truncating the longer texts to the size of their aligned counterparts.\""
   ]
  },
  {
   "cell_type": "markdown",
   "metadata": {},
   "source": [
    "### Questions:\n",
    "\n",
    "* Can these linguistic features serve as indications of fake content and be implemented in the classifcation model?\n",
    "    - According to the **Fake.Br Corpus** paper, they little helped in the ML models, \"Bag of words alone could (surprisingly) achieve good results (88% of F- measure, for both true and fake news), and other features did not help to significantly improve this\".\n",
    "* What is the 'diversity' feature?\n",
    "* What is 'number of tokens'?\n",
    "* What is 'number of types'?"
   ]
  },
  {
   "cell_type": "markdown",
   "metadata": {},
   "source": [
    "<img src=\"table1.png\" width=70% height=70%>"
   ]
  },
  {
   "cell_type": "markdown",
   "metadata": {},
   "source": [
    "## Import meta information"
   ]
  },
  {
   "cell_type": "code",
   "execution_count": 7,
   "metadata": {},
   "outputs": [],
   "source": [
    "with open('Data/metadata_info.txt') as f:\n",
    "    lines = f.readlines()"
   ]
  },
  {
   "cell_type": "code",
   "execution_count": 8,
   "metadata": {},
   "outputs": [],
   "source": [
    "column_names = [x[:-1] for x in lines]"
   ]
  },
  {
   "cell_type": "code",
   "execution_count": 9,
   "metadata": {},
   "outputs": [
    {
     "data": {
      "text/plain": [
       "['author',\n",
       " 'link',\n",
       " 'category',\n",
       " 'date of publication',\n",
       " 'number of tokens',\n",
       " 'number of words without punctuation',\n",
       " 'number of types',\n",
       " 'number of links inside the news',\n",
       " 'number of words in upper case',\n",
       " 'number of verbs',\n",
       " 'number of subjunctive and imperative verbs',\n",
       " 'number of nouns',\n",
       " 'number of adjectives',\n",
       " 'number of adverbs',\n",
       " 'number of modal verbs (mainly auxiliary verbs)',\n",
       " 'number of singular first and second personal pronouns',\n",
       " 'number of plural first personal pronouns',\n",
       " 'number of pronouns',\n",
       " 'pausality',\n",
       " 'number of characters',\n",
       " 'average sentence length',\n",
       " 'average word length',\n",
       " 'percentage of news with spelling errors',\n",
       " 'emotiveness',\n",
       " 'diversity']"
      ]
     },
     "execution_count": 9,
     "metadata": {},
     "output_type": "execute_result"
    }
   ],
   "source": [
    "column_names"
   ]
  },
  {
   "cell_type": "markdown",
   "metadata": {},
   "source": [
    "## Read all text files fakenews-meta-data information into a df"
   ]
  },
  {
   "cell_type": "code",
   "execution_count": 10,
   "metadata": {},
   "outputs": [],
   "source": [
    "# Step 1: set the directory to the correct folder\n",
    "dir1 = 'Data/fake-meta-information/'\n",
    "file_list = os.listdir(dir1)\n",
    "number_files = len(file_list)"
   ]
  },
  {
   "cell_type": "code",
   "execution_count": 11,
   "metadata": {},
   "outputs": [
    {
     "data": {
      "text/plain": [
       "3600"
      ]
     },
     "execution_count": 11,
     "metadata": {},
     "output_type": "execute_result"
    }
   ],
   "source": [
    "number_files"
   ]
  },
  {
   "cell_type": "code",
   "execution_count": 12,
   "metadata": {},
   "outputs": [],
   "source": [
    "FAKE_f = [] #dummy column indicating fake or not -- 1==fake\n",
    "FAKE_META = pd.DataFrame(columns=column_names)\n",
    "\n",
    "for i in range(number_files):\n",
    "        title = str(file_list[i])\n",
    "        FAKE_f.append(1)\n",
    "        df_temp = pd.read_csv(dir1 + title, escapechar='\\\\', names=column_names)\n",
    "        new_row = df_temp['author']\n",
    "        new_row = np.array(new_row)\n",
    "        FAKE_META.loc[i] = new_row"
   ]
  },
  {
   "cell_type": "code",
   "execution_count": 13,
   "metadata": {},
   "outputs": [
    {
     "data": {
      "text/plain": [
       "(3600, 25)"
      ]
     },
     "execution_count": 13,
     "metadata": {},
     "output_type": "execute_result"
    }
   ],
   "source": [
    "FAKE_META.shape"
   ]
  },
  {
   "cell_type": "code",
   "execution_count": 14,
   "metadata": {},
   "outputs": [
    {
     "data": {
      "text/plain": [
       "3600"
      ]
     },
     "execution_count": 14,
     "metadata": {},
     "output_type": "execute_result"
    }
   ],
   "source": [
    "len(FAKE_f)"
   ]
  },
  {
   "cell_type": "code",
   "execution_count": 15,
   "metadata": {},
   "outputs": [],
   "source": [
    "FAKE_META['Fake'] = FAKE_f"
   ]
  },
  {
   "cell_type": "code",
   "execution_count": 16,
   "metadata": {},
   "outputs": [
    {
     "data": {
      "text/html": [
       "<div>\n",
       "<style scoped>\n",
       "    .dataframe tbody tr th:only-of-type {\n",
       "        vertical-align: middle;\n",
       "    }\n",
       "\n",
       "    .dataframe tbody tr th {\n",
       "        vertical-align: top;\n",
       "    }\n",
       "\n",
       "    .dataframe thead th {\n",
       "        text-align: right;\n",
       "    }\n",
       "</style>\n",
       "<table border=\"1\" class=\"dataframe\">\n",
       "  <thead>\n",
       "    <tr style=\"text-align: right;\">\n",
       "      <th></th>\n",
       "      <th>author</th>\n",
       "      <th>link</th>\n",
       "      <th>category</th>\n",
       "      <th>date of publication</th>\n",
       "      <th>number of tokens</th>\n",
       "      <th>number of words without punctuation</th>\n",
       "      <th>number of types</th>\n",
       "      <th>number of links inside the news</th>\n",
       "      <th>number of words in upper case</th>\n",
       "      <th>number of verbs</th>\n",
       "      <th>...</th>\n",
       "      <th>number of plural first personal pronouns</th>\n",
       "      <th>number of pronouns</th>\n",
       "      <th>pausality</th>\n",
       "      <th>number of characters</th>\n",
       "      <th>average sentence length</th>\n",
       "      <th>average word length</th>\n",
       "      <th>percentage of news with spelling errors</th>\n",
       "      <th>emotiveness</th>\n",
       "      <th>diversity</th>\n",
       "      <th>Fake</th>\n",
       "    </tr>\n",
       "  </thead>\n",
       "  <tbody>\n",
       "    <tr>\n",
       "      <th>0</th>\n",
       "      <td>None</td>\n",
       "      <td>https://www.diariodobrasil.org/temer-tem-poder...</td>\n",
       "      <td>politica</td>\n",
       "      <td>28/01/2018</td>\n",
       "      <td>133</td>\n",
       "      <td>111</td>\n",
       "      <td>81</td>\n",
       "      <td>0</td>\n",
       "      <td>2</td>\n",
       "      <td>28</td>\n",
       "      <td>...</td>\n",
       "      <td>1</td>\n",
       "      <td>9</td>\n",
       "      <td>1.83333</td>\n",
       "      <td>551</td>\n",
       "      <td>9.25</td>\n",
       "      <td>4.96396</td>\n",
       "      <td>0.0</td>\n",
       "      <td>0.218182</td>\n",
       "      <td>0.72973</td>\n",
       "      <td>1</td>\n",
       "    </tr>\n",
       "    <tr>\n",
       "      <th>1</th>\n",
       "      <td>None</td>\n",
       "      <td>https://www.diariodobrasil.org/mendes-se-desco...</td>\n",
       "      <td>politica</td>\n",
       "      <td>28/06/2017</td>\n",
       "      <td>171</td>\n",
       "      <td>142</td>\n",
       "      <td>106</td>\n",
       "      <td>0</td>\n",
       "      <td>3</td>\n",
       "      <td>23</td>\n",
       "      <td>...</td>\n",
       "      <td>0</td>\n",
       "      <td>9</td>\n",
       "      <td>2.07143</td>\n",
       "      <td>683</td>\n",
       "      <td>10.1429</td>\n",
       "      <td>4.80986</td>\n",
       "      <td>0.0</td>\n",
       "      <td>0.161765</td>\n",
       "      <td>0.746479</td>\n",
       "      <td>1</td>\n",
       "    </tr>\n",
       "    <tr>\n",
       "      <th>2</th>\n",
       "      <td>None</td>\n",
       "      <td>https://www.diariodobrasil.org/assessor-pessoa...</td>\n",
       "      <td>politica</td>\n",
       "      <td>18/01/2016</td>\n",
       "      <td>169</td>\n",
       "      <td>150</td>\n",
       "      <td>97</td>\n",
       "      <td>1</td>\n",
       "      <td>0</td>\n",
       "      <td>25</td>\n",
       "      <td>...</td>\n",
       "      <td>0</td>\n",
       "      <td>11</td>\n",
       "      <td>2.71429</td>\n",
       "      <td>743</td>\n",
       "      <td>21.4286</td>\n",
       "      <td>4.95333</td>\n",
       "      <td>0.00666667</td>\n",
       "      <td>0.101449</td>\n",
       "      <td>0.646667</td>\n",
       "      <td>1</td>\n",
       "    </tr>\n",
       "    <tr>\n",
       "      <th>3</th>\n",
       "      <td>None</td>\n",
       "      <td>https://www.diariodobrasil.org/homicidio-quali...</td>\n",
       "      <td>politica</td>\n",
       "      <td>23/02/2016</td>\n",
       "      <td>206</td>\n",
       "      <td>181</td>\n",
       "      <td>119</td>\n",
       "      <td>0</td>\n",
       "      <td>1</td>\n",
       "      <td>11</td>\n",
       "      <td>...</td>\n",
       "      <td>0</td>\n",
       "      <td>6</td>\n",
       "      <td>3.125</td>\n",
       "      <td>1005</td>\n",
       "      <td>22.625</td>\n",
       "      <td>5.55249</td>\n",
       "      <td>0.0</td>\n",
       "      <td>0.15</td>\n",
       "      <td>0.657459</td>\n",
       "      <td>1</td>\n",
       "    </tr>\n",
       "    <tr>\n",
       "      <th>4</th>\n",
       "      <td>None</td>\n",
       "      <td>https://www.diariodobrasil.org/carmen-lucia-se...</td>\n",
       "      <td>politica</td>\n",
       "      <td>21/05/2017</td>\n",
       "      <td>122</td>\n",
       "      <td>104</td>\n",
       "      <td>77</td>\n",
       "      <td>1</td>\n",
       "      <td>1</td>\n",
       "      <td>20</td>\n",
       "      <td>...</td>\n",
       "      <td>0</td>\n",
       "      <td>7</td>\n",
       "      <td>3.6</td>\n",
       "      <td>498</td>\n",
       "      <td>20.8</td>\n",
       "      <td>4.78846</td>\n",
       "      <td>0.0</td>\n",
       "      <td>0.195652</td>\n",
       "      <td>0.740385</td>\n",
       "      <td>1</td>\n",
       "    </tr>\n",
       "  </tbody>\n",
       "</table>\n",
       "<p>5 rows × 26 columns</p>\n",
       "</div>"
      ],
      "text/plain": [
       "  author                                               link  category  \\\n",
       "0   None  https://www.diariodobrasil.org/temer-tem-poder...  politica   \n",
       "1   None  https://www.diariodobrasil.org/mendes-se-desco...  politica   \n",
       "2   None  https://www.diariodobrasil.org/assessor-pessoa...  politica   \n",
       "3   None  https://www.diariodobrasil.org/homicidio-quali...  politica   \n",
       "4   None  https://www.diariodobrasil.org/carmen-lucia-se...  politica   \n",
       "\n",
       "  date of publication number of tokens number of words without punctuation  \\\n",
       "0          28/01/2018              133                                 111   \n",
       "1          28/06/2017              171                                 142   \n",
       "2          18/01/2016              169                                 150   \n",
       "3          23/02/2016              206                                 181   \n",
       "4          21/05/2017              122                                 104   \n",
       "\n",
       "  number of types number of links inside the news  \\\n",
       "0              81                               0   \n",
       "1             106                               0   \n",
       "2              97                               1   \n",
       "3             119                               0   \n",
       "4              77                               1   \n",
       "\n",
       "  number of words in upper case number of verbs  ...  \\\n",
       "0                             2              28  ...   \n",
       "1                             3              23  ...   \n",
       "2                             0              25  ...   \n",
       "3                             1              11  ...   \n",
       "4                             1              20  ...   \n",
       "\n",
       "  number of plural first personal pronouns number of pronouns pausality  \\\n",
       "0                                        1                  9   1.83333   \n",
       "1                                        0                  9   2.07143   \n",
       "2                                        0                 11   2.71429   \n",
       "3                                        0                  6     3.125   \n",
       "4                                        0                  7       3.6   \n",
       "\n",
       "  number of characters average sentence length average word length  \\\n",
       "0                  551                    9.25             4.96396   \n",
       "1                  683                 10.1429             4.80986   \n",
       "2                  743                 21.4286             4.95333   \n",
       "3                 1005                  22.625             5.55249   \n",
       "4                  498                    20.8             4.78846   \n",
       "\n",
       "  percentage of news with spelling errors emotiveness diversity Fake  \n",
       "0                                     0.0    0.218182   0.72973    1  \n",
       "1                                     0.0    0.161765  0.746479    1  \n",
       "2                              0.00666667    0.101449  0.646667    1  \n",
       "3                                     0.0        0.15  0.657459    1  \n",
       "4                                     0.0    0.195652  0.740385    1  \n",
       "\n",
       "[5 rows x 26 columns]"
      ]
     },
     "execution_count": 16,
     "metadata": {},
     "output_type": "execute_result"
    }
   ],
   "source": [
    "FAKE_META.head()"
   ]
  },
  {
   "cell_type": "markdown",
   "metadata": {},
   "source": [
    "## Read all text files true-news-meta-data information into a df"
   ]
  },
  {
   "cell_type": "code",
   "execution_count": 17,
   "metadata": {},
   "outputs": [],
   "source": [
    "# Step 1: set the directory to the correct folder\n",
    "dir2 = 'Data/true-meta-information/'\n",
    "file_list = os.listdir(dir2)\n",
    "number_files = len(file_list)"
   ]
  },
  {
   "cell_type": "code",
   "execution_count": 18,
   "metadata": {},
   "outputs": [
    {
     "data": {
      "text/plain": [
       "3600"
      ]
     },
     "execution_count": 18,
     "metadata": {},
     "output_type": "execute_result"
    }
   ],
   "source": [
    "number_files"
   ]
  },
  {
   "cell_type": "code",
   "execution_count": 19,
   "metadata": {},
   "outputs": [],
   "source": [
    "FAKE_t = [] #dummy column indicating fake or not -- 0 == not fake\n",
    "TRUE_META = pd.DataFrame(columns=column_names)\n",
    "\n",
    "for i in range(number_files):\n",
    "        title = str(file_list[i])\n",
    "        FAKE_t.append(0)\n",
    "        df_temp = pd.read_csv(dir2 + title, sep=';', escapechar='\\\\', names=column_names)\n",
    "        new_row = df_temp['author']\n",
    "        new_row = np.array(new_row)\n",
    "        TRUE_META.loc[i] = new_row"
   ]
  },
  {
   "cell_type": "code",
   "execution_count": 20,
   "metadata": {},
   "outputs": [
    {
     "data": {
      "text/plain": [
       "(3600, 25)"
      ]
     },
     "execution_count": 20,
     "metadata": {},
     "output_type": "execute_result"
    }
   ],
   "source": [
    "TRUE_META.shape"
   ]
  },
  {
   "cell_type": "code",
   "execution_count": 21,
   "metadata": {},
   "outputs": [
    {
     "data": {
      "text/plain": [
       "3600"
      ]
     },
     "execution_count": 21,
     "metadata": {},
     "output_type": "execute_result"
    }
   ],
   "source": [
    "len(FAKE_t)"
   ]
  },
  {
   "cell_type": "code",
   "execution_count": 22,
   "metadata": {},
   "outputs": [],
   "source": [
    "TRUE_META['Fake'] = FAKE_t"
   ]
  },
  {
   "cell_type": "code",
   "execution_count": 23,
   "metadata": {},
   "outputs": [
    {
     "data": {
      "text/html": [
       "<div>\n",
       "<style scoped>\n",
       "    .dataframe tbody tr th:only-of-type {\n",
       "        vertical-align: middle;\n",
       "    }\n",
       "\n",
       "    .dataframe tbody tr th {\n",
       "        vertical-align: top;\n",
       "    }\n",
       "\n",
       "    .dataframe thead th {\n",
       "        text-align: right;\n",
       "    }\n",
       "</style>\n",
       "<table border=\"1\" class=\"dataframe\">\n",
       "  <thead>\n",
       "    <tr style=\"text-align: right;\">\n",
       "      <th></th>\n",
       "      <th>author</th>\n",
       "      <th>link</th>\n",
       "      <th>category</th>\n",
       "      <th>date of publication</th>\n",
       "      <th>number of tokens</th>\n",
       "      <th>number of words without punctuation</th>\n",
       "      <th>number of types</th>\n",
       "      <th>number of links inside the news</th>\n",
       "      <th>number of words in upper case</th>\n",
       "      <th>number of verbs</th>\n",
       "      <th>...</th>\n",
       "      <th>number of plural first personal pronouns</th>\n",
       "      <th>number of pronouns</th>\n",
       "      <th>pausality</th>\n",
       "      <th>number of characters</th>\n",
       "      <th>average sentence length</th>\n",
       "      <th>average word length</th>\n",
       "      <th>percentage of news with spelling errors</th>\n",
       "      <th>emotiveness</th>\n",
       "      <th>diversity</th>\n",
       "      <th>Fake</th>\n",
       "    </tr>\n",
       "  </thead>\n",
       "  <tbody>\n",
       "    <tr>\n",
       "      <th>0</th>\n",
       "      <td>Carla Araújo, O Estado de S.Paulo</td>\n",
       "      <td>http://politica.estadao.com.br/noticias/geral,...</td>\n",
       "      <td>politica</td>\n",
       "      <td>16 de novembro de 2017</td>\n",
       "      <td>683</td>\n",
       "      <td>574</td>\n",
       "      <td>280</td>\n",
       "      <td>None</td>\n",
       "      <td>3</td>\n",
       "      <td>115</td>\n",
       "      <td>...</td>\n",
       "      <td>2</td>\n",
       "      <td>35</td>\n",
       "      <td>3.75862</td>\n",
       "      <td>2709</td>\n",
       "      <td>19.7931</td>\n",
       "      <td>4.71951</td>\n",
       "      <td>0.0</td>\n",
       "      <td>0.161871</td>\n",
       "      <td>0.487805</td>\n",
       "      <td>0</td>\n",
       "    </tr>\n",
       "    <tr>\n",
       "      <th>1</th>\n",
       "      <td>Por Fernando Evans e Fernando Pacífico, G1 Ca...</td>\n",
       "      <td>https://g1.globo.com/sp/campinas-regiao/notici...</td>\n",
       "      <td>politica</td>\n",
       "      <td>27/11/2017 19h21</td>\n",
       "      <td>1522</td>\n",
       "      <td>1315</td>\n",
       "      <td>587</td>\n",
       "      <td>0</td>\n",
       "      <td>10</td>\n",
       "      <td>164</td>\n",
       "      <td>...</td>\n",
       "      <td>0</td>\n",
       "      <td>44</td>\n",
       "      <td>4.05882</td>\n",
       "      <td>6826</td>\n",
       "      <td>25.7843</td>\n",
       "      <td>5.19087</td>\n",
       "      <td>0.00152091</td>\n",
       "      <td>0.170248</td>\n",
       "      <td>0.446388</td>\n",
       "      <td>0</td>\n",
       "    </tr>\n",
       "    <tr>\n",
       "      <th>2</th>\n",
       "      <td>Por Bernardo Caram, Gustavo Garcia, Fernanda ...</td>\n",
       "      <td>https://g1.globo.com/politica/noticia/relator-...</td>\n",
       "      <td>politica</td>\n",
       "      <td>10/10/2017 17h18</td>\n",
       "      <td>1185</td>\n",
       "      <td>1001</td>\n",
       "      <td>465</td>\n",
       "      <td>None</td>\n",
       "      <td>24</td>\n",
       "      <td>154</td>\n",
       "      <td>...</td>\n",
       "      <td>0</td>\n",
       "      <td>58</td>\n",
       "      <td>4.08889</td>\n",
       "      <td>5135</td>\n",
       "      <td>22.2444</td>\n",
       "      <td>5.12987</td>\n",
       "      <td>0.001998</td>\n",
       "      <td>0.170626</td>\n",
       "      <td>0.464535</td>\n",
       "      <td>0</td>\n",
       "    </tr>\n",
       "    <tr>\n",
       "      <th>3</th>\n",
       "      <td>Por G1 PE</td>\n",
       "      <td>https://g1.globo.com/pernambuco/noticia/apos-s...</td>\n",
       "      <td>politica</td>\n",
       "      <td>10/11/2017 18h28</td>\n",
       "      <td>1878</td>\n",
       "      <td>1650</td>\n",
       "      <td>725</td>\n",
       "      <td>0</td>\n",
       "      <td>16</td>\n",
       "      <td>192</td>\n",
       "      <td>...</td>\n",
       "      <td>0</td>\n",
       "      <td>54</td>\n",
       "      <td>3.21127</td>\n",
       "      <td>8709</td>\n",
       "      <td>23.2394</td>\n",
       "      <td>5.27818</td>\n",
       "      <td>0.000606061</td>\n",
       "      <td>0.203898</td>\n",
       "      <td>0.439394</td>\n",
       "      <td>0</td>\n",
       "    </tr>\n",
       "    <tr>\n",
       "      <th>4</th>\n",
       "      <td>Por Renan Ramalho, G1, Brasília</td>\n",
       "      <td>https://g1.globo.com/politica/noticia/carmen-l...</td>\n",
       "      <td>politica</td>\n",
       "      <td>15/01/2018 12h26</td>\n",
       "      <td>767</td>\n",
       "      <td>664</td>\n",
       "      <td>333</td>\n",
       "      <td>0</td>\n",
       "      <td>15</td>\n",
       "      <td>102</td>\n",
       "      <td>...</td>\n",
       "      <td>0</td>\n",
       "      <td>38</td>\n",
       "      <td>3.43333</td>\n",
       "      <td>3262</td>\n",
       "      <td>22.1333</td>\n",
       "      <td>4.91265</td>\n",
       "      <td>0.0</td>\n",
       "      <td>0.132013</td>\n",
       "      <td>0.501506</td>\n",
       "      <td>0</td>\n",
       "    </tr>\n",
       "  </tbody>\n",
       "</table>\n",
       "<p>5 rows × 26 columns</p>\n",
       "</div>"
      ],
      "text/plain": [
       "                                              author  \\\n",
       "0                 Carla Araújo, O Estado de S.Paulo    \n",
       "1   Por Fernando Evans e Fernando Pacífico, G1 Ca...   \n",
       "2   Por Bernardo Caram, Gustavo Garcia, Fernanda ...   \n",
       "3                                         Por G1 PE    \n",
       "4                   Por Renan Ramalho, G1, Brasília    \n",
       "\n",
       "                                                link  category  \\\n",
       "0  http://politica.estadao.com.br/noticias/geral,...  politica   \n",
       "1  https://g1.globo.com/sp/campinas-regiao/notici...  politica   \n",
       "2  https://g1.globo.com/politica/noticia/relator-...  politica   \n",
       "3  https://g1.globo.com/pernambuco/noticia/apos-s...  politica   \n",
       "4  https://g1.globo.com/politica/noticia/carmen-l...  politica   \n",
       "\n",
       "        date of publication number of tokens  \\\n",
       "0   16 de novembro de 2017               683   \n",
       "1         27/11/2017 19h21              1522   \n",
       "2         10/10/2017 17h18              1185   \n",
       "3         10/11/2017 18h28              1878   \n",
       "4         15/01/2018 12h26               767   \n",
       "\n",
       "  number of words without punctuation number of types  \\\n",
       "0                                 574             280   \n",
       "1                                1315             587   \n",
       "2                                1001             465   \n",
       "3                                1650             725   \n",
       "4                                 664             333   \n",
       "\n",
       "  number of links inside the news number of words in upper case  \\\n",
       "0                            None                             3   \n",
       "1                               0                            10   \n",
       "2                            None                            24   \n",
       "3                               0                            16   \n",
       "4                               0                            15   \n",
       "\n",
       "  number of verbs  ... number of plural first personal pronouns  \\\n",
       "0             115  ...                                        2   \n",
       "1             164  ...                                        0   \n",
       "2             154  ...                                        0   \n",
       "3             192  ...                                        0   \n",
       "4             102  ...                                        0   \n",
       "\n",
       "  number of pronouns pausality number of characters average sentence length  \\\n",
       "0                 35   3.75862                 2709                 19.7931   \n",
       "1                 44   4.05882                 6826                 25.7843   \n",
       "2                 58   4.08889                 5135                 22.2444   \n",
       "3                 54   3.21127                 8709                 23.2394   \n",
       "4                 38   3.43333                 3262                 22.1333   \n",
       "\n",
       "  average word length percentage of news with spelling errors emotiveness  \\\n",
       "0             4.71951                                     0.0    0.161871   \n",
       "1             5.19087                              0.00152091    0.170248   \n",
       "2             5.12987                                0.001998    0.170626   \n",
       "3             5.27818                             0.000606061    0.203898   \n",
       "4             4.91265                                     0.0    0.132013   \n",
       "\n",
       "  diversity Fake  \n",
       "0  0.487805    0  \n",
       "1  0.446388    0  \n",
       "2  0.464535    0  \n",
       "3  0.439394    0  \n",
       "4  0.501506    0  \n",
       "\n",
       "[5 rows x 26 columns]"
      ]
     },
     "execution_count": 23,
     "metadata": {},
     "output_type": "execute_result"
    }
   ],
   "source": [
    "TRUE_META.head()"
   ]
  },
  {
   "cell_type": "markdown",
   "metadata": {},
   "source": [
    "----"
   ]
  },
  {
   "cell_type": "markdown",
   "metadata": {},
   "source": [
    "### Join both df with the dummy column \"Fake\""
   ]
  },
  {
   "cell_type": "code",
   "execution_count": 24,
   "metadata": {},
   "outputs": [],
   "source": [
    "df = pd.concat([FAKE_META, TRUE_META])"
   ]
  },
  {
   "cell_type": "code",
   "execution_count": 25,
   "metadata": {},
   "outputs": [
    {
     "data": {
      "text/plain": [
       "array(['0', '1', '2', '3', '4', '6', '5', '11', '8', '9', 'None'],\n",
       "      dtype=object)"
      ]
     },
     "execution_count": 25,
     "metadata": {},
     "output_type": "execute_result"
    }
   ],
   "source": [
    "df['number of links inside the news'].unique()"
   ]
  },
  {
   "cell_type": "code",
   "execution_count": 26,
   "metadata": {},
   "outputs": [],
   "source": [
    "df.loc[df['number of links inside the news'] == 'None', 'number of links inside the news'] = 0"
   ]
  },
  {
   "cell_type": "code",
   "execution_count": 27,
   "metadata": {},
   "outputs": [
    {
     "data": {
      "text/plain": [
       "array(['0', '1', '2', '3', '4', '6', '5', '11', '8', '9', 0], dtype=object)"
      ]
     },
     "execution_count": 27,
     "metadata": {},
     "output_type": "execute_result"
    }
   ],
   "source": [
    "df['number of links inside the news'].unique()"
   ]
  },
  {
   "cell_type": "code",
   "execution_count": 28,
   "metadata": {},
   "outputs": [
    {
     "data": {
      "text/plain": [
       "Index(['author', 'link', 'category', 'date of publication', 'number of tokens',\n",
       "       'number of words without punctuation', 'number of types',\n",
       "       'number of links inside the news', 'number of words in upper case',\n",
       "       'number of verbs', 'number of subjunctive and imperative verbs',\n",
       "       'number of nouns', 'number of adjectives', 'number of adverbs',\n",
       "       'number of modal verbs (mainly auxiliary verbs)',\n",
       "       'number of singular first and second personal pronouns',\n",
       "       'number of plural first personal pronouns', 'number of pronouns',\n",
       "       'pausality', 'number of characters', 'average sentence length',\n",
       "       'average word length', 'percentage of news with spelling errors',\n",
       "       'emotiveness', 'diversity', 'Fake'],\n",
       "      dtype='object')"
      ]
     },
     "execution_count": 28,
     "metadata": {},
     "output_type": "execute_result"
    }
   ],
   "source": [
    "df.columns"
   ]
  },
  {
   "cell_type": "code",
   "execution_count": 29,
   "metadata": {},
   "outputs": [],
   "source": [
    "df[['number of tokens', 'number of words without punctuation', 'number of types', \n",
    "    'number of links inside the news', 'number of words in upper case', 'number of verbs', \n",
    "    'number of verbs', 'number of subjunctive and imperative verbs', 'number of nouns', \n",
    "   'number of adjectives', 'number of adverbs', 'number of modal verbs (mainly auxiliary verbs)', \n",
    "   'number of singular first and second personal pronouns', 'number of plural first personal pronouns', \n",
    "   'number of pronouns', 'pausality', 'number of characters', 'average sentence length', 'average word length', \n",
    "   'percentage of news with spelling errors', 'emotiveness', 'diversity']] = df[['number of tokens', 'number of words without punctuation', 'number of types', \n",
    "    'number of links inside the news', 'number of words in upper case', 'number of verbs', \n",
    "    'number of verbs', 'number of subjunctive and imperative verbs', 'number of nouns', \n",
    "   'number of adjectives', 'number of adverbs', 'number of modal verbs (mainly auxiliary verbs)', \n",
    "   'number of singular first and second personal pronouns', 'number of plural first personal pronouns', \n",
    "   'number of pronouns', 'pausality', 'number of characters', 'average sentence length', 'average word length', \n",
    "   'percentage of news with spelling errors', 'emotiveness', 'diversity']].apply(pd.to_numeric)"
   ]
  },
  {
   "cell_type": "code",
   "execution_count": 30,
   "metadata": {},
   "outputs": [
    {
     "data": {
      "text/plain": [
       "array([ 0,  1,  2,  3,  4,  6,  5, 11,  8,  9])"
      ]
     },
     "execution_count": 30,
     "metadata": {},
     "output_type": "execute_result"
    }
   ],
   "source": [
    "df['number of links inside the news'].unique()"
   ]
  },
  {
   "cell_type": "code",
   "execution_count": 31,
   "metadata": {},
   "outputs": [
    {
     "data": {
      "text/html": [
       "<div>\n",
       "<style scoped>\n",
       "    .dataframe tbody tr th:only-of-type {\n",
       "        vertical-align: middle;\n",
       "    }\n",
       "\n",
       "    .dataframe tbody tr th {\n",
       "        vertical-align: top;\n",
       "    }\n",
       "\n",
       "    .dataframe thead th {\n",
       "        text-align: right;\n",
       "    }\n",
       "</style>\n",
       "<table border=\"1\" class=\"dataframe\">\n",
       "  <thead>\n",
       "    <tr style=\"text-align: right;\">\n",
       "      <th></th>\n",
       "      <th>number of tokens</th>\n",
       "      <th>number of words without punctuation</th>\n",
       "      <th>number of types</th>\n",
       "      <th>number of links inside the news</th>\n",
       "      <th>number of words in upper case</th>\n",
       "      <th>number of verbs</th>\n",
       "      <th>number of subjunctive and imperative verbs</th>\n",
       "      <th>number of nouns</th>\n",
       "      <th>number of adjectives</th>\n",
       "      <th>number of adverbs</th>\n",
       "      <th>...</th>\n",
       "      <th>number of plural first personal pronouns</th>\n",
       "      <th>number of pronouns</th>\n",
       "      <th>pausality</th>\n",
       "      <th>number of characters</th>\n",
       "      <th>average sentence length</th>\n",
       "      <th>average word length</th>\n",
       "      <th>percentage of news with spelling errors</th>\n",
       "      <th>emotiveness</th>\n",
       "      <th>diversity</th>\n",
       "      <th>Fake</th>\n",
       "    </tr>\n",
       "  </thead>\n",
       "  <tbody>\n",
       "    <tr>\n",
       "      <th>count</th>\n",
       "      <td>7200.000000</td>\n",
       "      <td>7200.000000</td>\n",
       "      <td>7200.000000</td>\n",
       "      <td>7200.000000</td>\n",
       "      <td>7200.000000</td>\n",
       "      <td>7200.00000</td>\n",
       "      <td>7200.000000</td>\n",
       "      <td>7200.000000</td>\n",
       "      <td>7200.000000</td>\n",
       "      <td>7200.000000</td>\n",
       "      <td>...</td>\n",
       "      <td>7200.000000</td>\n",
       "      <td>7200.000000</td>\n",
       "      <td>7200.000000</td>\n",
       "      <td>7200.000000</td>\n",
       "      <td>7200.000000</td>\n",
       "      <td>7200.000000</td>\n",
       "      <td>7200.000000</td>\n",
       "      <td>7200.000000</td>\n",
       "      <td>7200.000000</td>\n",
       "      <td>7200.000000</td>\n",
       "    </tr>\n",
       "    <tr>\n",
       "      <th>mean</th>\n",
       "      <td>742.763333</td>\n",
       "      <td>646.172222</td>\n",
       "      <td>306.896250</td>\n",
       "      <td>0.173472</td>\n",
       "      <td>7.680694</td>\n",
       "      <td>100.76750</td>\n",
       "      <td>4.063194</td>\n",
       "      <td>182.920278</td>\n",
       "      <td>33.154444</td>\n",
       "      <td>30.014444</td>\n",
       "      <td>...</td>\n",
       "      <td>0.502639</td>\n",
       "      <td>38.758056</td>\n",
       "      <td>2.755722</td>\n",
       "      <td>3138.628333</td>\n",
       "      <td>18.229019</td>\n",
       "      <td>4.845171</td>\n",
       "      <td>0.003065</td>\n",
       "      <td>0.209758</td>\n",
       "      <td>0.577903</td>\n",
       "      <td>0.500000</td>\n",
       "    </tr>\n",
       "    <tr>\n",
       "      <th>std</th>\n",
       "      <td>774.155454</td>\n",
       "      <td>674.901525</td>\n",
       "      <td>260.201075</td>\n",
       "      <td>0.549322</td>\n",
       "      <td>9.860613</td>\n",
       "      <td>108.03151</td>\n",
       "      <td>5.492677</td>\n",
       "      <td>186.507322</td>\n",
       "      <td>39.702327</td>\n",
       "      <td>37.742105</td>\n",
       "      <td>...</td>\n",
       "      <td>1.697008</td>\n",
       "      <td>51.759915</td>\n",
       "      <td>1.154137</td>\n",
       "      <td>3283.090323</td>\n",
       "      <td>6.090270</td>\n",
       "      <td>0.246260</td>\n",
       "      <td>0.007780</td>\n",
       "      <td>0.070239</td>\n",
       "      <td>0.126475</td>\n",
       "      <td>0.500035</td>\n",
       "    </tr>\n",
       "    <tr>\n",
       "      <th>min</th>\n",
       "      <td>11.000000</td>\n",
       "      <td>9.000000</td>\n",
       "      <td>9.000000</td>\n",
       "      <td>0.000000</td>\n",
       "      <td>0.000000</td>\n",
       "      <td>1.00000</td>\n",
       "      <td>0.000000</td>\n",
       "      <td>3.000000</td>\n",
       "      <td>0.000000</td>\n",
       "      <td>0.000000</td>\n",
       "      <td>...</td>\n",
       "      <td>0.000000</td>\n",
       "      <td>0.000000</td>\n",
       "      <td>0.250000</td>\n",
       "      <td>34.000000</td>\n",
       "      <td>2.666670</td>\n",
       "      <td>3.615940</td>\n",
       "      <td>0.000000</td>\n",
       "      <td>0.000000</td>\n",
       "      <td>0.232210</td>\n",
       "      <td>0.000000</td>\n",
       "    </tr>\n",
       "    <tr>\n",
       "      <th>25%</th>\n",
       "      <td>183.000000</td>\n",
       "      <td>157.000000</td>\n",
       "      <td>106.000000</td>\n",
       "      <td>0.000000</td>\n",
       "      <td>2.000000</td>\n",
       "      <td>26.00000</td>\n",
       "      <td>1.000000</td>\n",
       "      <td>46.000000</td>\n",
       "      <td>7.000000</td>\n",
       "      <td>7.000000</td>\n",
       "      <td>...</td>\n",
       "      <td>0.000000</td>\n",
       "      <td>8.000000</td>\n",
       "      <td>2.166670</td>\n",
       "      <td>755.000000</td>\n",
       "      <td>14.372850</td>\n",
       "      <td>4.696408</td>\n",
       "      <td>0.000000</td>\n",
       "      <td>0.162500</td>\n",
       "      <td>0.471088</td>\n",
       "      <td>0.000000</td>\n",
       "    </tr>\n",
       "    <tr>\n",
       "      <th>50%</th>\n",
       "      <td>416.000000</td>\n",
       "      <td>362.000000</td>\n",
       "      <td>208.000000</td>\n",
       "      <td>0.000000</td>\n",
       "      <td>5.000000</td>\n",
       "      <td>57.00000</td>\n",
       "      <td>2.000000</td>\n",
       "      <td>106.000000</td>\n",
       "      <td>18.000000</td>\n",
       "      <td>15.000000</td>\n",
       "      <td>...</td>\n",
       "      <td>0.000000</td>\n",
       "      <td>19.000000</td>\n",
       "      <td>2.684015</td>\n",
       "      <td>1756.500000</td>\n",
       "      <td>18.115250</td>\n",
       "      <td>4.846540</td>\n",
       "      <td>0.000579</td>\n",
       "      <td>0.204082</td>\n",
       "      <td>0.577402</td>\n",
       "      <td>0.500000</td>\n",
       "    </tr>\n",
       "    <tr>\n",
       "      <th>75%</th>\n",
       "      <td>1064.250000</td>\n",
       "      <td>928.250000</td>\n",
       "      <td>440.000000</td>\n",
       "      <td>0.000000</td>\n",
       "      <td>10.000000</td>\n",
       "      <td>141.00000</td>\n",
       "      <td>5.000000</td>\n",
       "      <td>265.000000</td>\n",
       "      <td>45.000000</td>\n",
       "      <td>39.000000</td>\n",
       "      <td>...</td>\n",
       "      <td>0.000000</td>\n",
       "      <td>49.000000</td>\n",
       "      <td>3.224992</td>\n",
       "      <td>4523.000000</td>\n",
       "      <td>21.823775</td>\n",
       "      <td>4.994038</td>\n",
       "      <td>0.003799</td>\n",
       "      <td>0.251055</td>\n",
       "      <td>0.676276</td>\n",
       "      <td>1.000000</td>\n",
       "    </tr>\n",
       "    <tr>\n",
       "      <th>max</th>\n",
       "      <td>8634.000000</td>\n",
       "      <td>7588.000000</td>\n",
       "      <td>2805.000000</td>\n",
       "      <td>11.000000</td>\n",
       "      <td>233.000000</td>\n",
       "      <td>1148.00000</td>\n",
       "      <td>65.000000</td>\n",
       "      <td>2170.000000</td>\n",
       "      <td>532.000000</td>\n",
       "      <td>497.000000</td>\n",
       "      <td>...</td>\n",
       "      <td>54.000000</td>\n",
       "      <td>720.000000</td>\n",
       "      <td>51.238100</td>\n",
       "      <td>37381.000000</td>\n",
       "      <td>110.250000</td>\n",
       "      <td>5.935780</td>\n",
       "      <td>0.382353</td>\n",
       "      <td>0.750000</td>\n",
       "      <td>1.000000</td>\n",
       "      <td>1.000000</td>\n",
       "    </tr>\n",
       "  </tbody>\n",
       "</table>\n",
       "<p>8 rows × 22 columns</p>\n",
       "</div>"
      ],
      "text/plain": [
       "       number of tokens  number of words without punctuation  number of types  \\\n",
       "count       7200.000000                          7200.000000      7200.000000   \n",
       "mean         742.763333                           646.172222       306.896250   \n",
       "std          774.155454                           674.901525       260.201075   \n",
       "min           11.000000                             9.000000         9.000000   \n",
       "25%          183.000000                           157.000000       106.000000   \n",
       "50%          416.000000                           362.000000       208.000000   \n",
       "75%         1064.250000                           928.250000       440.000000   \n",
       "max         8634.000000                          7588.000000      2805.000000   \n",
       "\n",
       "       number of links inside the news  number of words in upper case  \\\n",
       "count                      7200.000000                    7200.000000   \n",
       "mean                          0.173472                       7.680694   \n",
       "std                           0.549322                       9.860613   \n",
       "min                           0.000000                       0.000000   \n",
       "25%                           0.000000                       2.000000   \n",
       "50%                           0.000000                       5.000000   \n",
       "75%                           0.000000                      10.000000   \n",
       "max                          11.000000                     233.000000   \n",
       "\n",
       "       number of verbs  number of subjunctive and imperative verbs  \\\n",
       "count       7200.00000                                 7200.000000   \n",
       "mean         100.76750                                    4.063194   \n",
       "std          108.03151                                    5.492677   \n",
       "min            1.00000                                    0.000000   \n",
       "25%           26.00000                                    1.000000   \n",
       "50%           57.00000                                    2.000000   \n",
       "75%          141.00000                                    5.000000   \n",
       "max         1148.00000                                   65.000000   \n",
       "\n",
       "       number of nouns  number of adjectives  number of adverbs  ...  \\\n",
       "count      7200.000000           7200.000000        7200.000000  ...   \n",
       "mean        182.920278             33.154444          30.014444  ...   \n",
       "std         186.507322             39.702327          37.742105  ...   \n",
       "min           3.000000              0.000000           0.000000  ...   \n",
       "25%          46.000000              7.000000           7.000000  ...   \n",
       "50%         106.000000             18.000000          15.000000  ...   \n",
       "75%         265.000000             45.000000          39.000000  ...   \n",
       "max        2170.000000            532.000000         497.000000  ...   \n",
       "\n",
       "       number of plural first personal pronouns  number of pronouns  \\\n",
       "count                               7200.000000         7200.000000   \n",
       "mean                                   0.502639           38.758056   \n",
       "std                                    1.697008           51.759915   \n",
       "min                                    0.000000            0.000000   \n",
       "25%                                    0.000000            8.000000   \n",
       "50%                                    0.000000           19.000000   \n",
       "75%                                    0.000000           49.000000   \n",
       "max                                   54.000000          720.000000   \n",
       "\n",
       "         pausality  number of characters  average sentence length  \\\n",
       "count  7200.000000           7200.000000              7200.000000   \n",
       "mean      2.755722           3138.628333                18.229019   \n",
       "std       1.154137           3283.090323                 6.090270   \n",
       "min       0.250000             34.000000                 2.666670   \n",
       "25%       2.166670            755.000000                14.372850   \n",
       "50%       2.684015           1756.500000                18.115250   \n",
       "75%       3.224992           4523.000000                21.823775   \n",
       "max      51.238100          37381.000000               110.250000   \n",
       "\n",
       "       average word length  percentage of news with spelling errors  \\\n",
       "count          7200.000000                              7200.000000   \n",
       "mean              4.845171                                 0.003065   \n",
       "std               0.246260                                 0.007780   \n",
       "min               3.615940                                 0.000000   \n",
       "25%               4.696408                                 0.000000   \n",
       "50%               4.846540                                 0.000579   \n",
       "75%               4.994038                                 0.003799   \n",
       "max               5.935780                                 0.382353   \n",
       "\n",
       "       emotiveness    diversity         Fake  \n",
       "count  7200.000000  7200.000000  7200.000000  \n",
       "mean      0.209758     0.577903     0.500000  \n",
       "std       0.070239     0.126475     0.500035  \n",
       "min       0.000000     0.232210     0.000000  \n",
       "25%       0.162500     0.471088     0.000000  \n",
       "50%       0.204082     0.577402     0.500000  \n",
       "75%       0.251055     0.676276     1.000000  \n",
       "max       0.750000     1.000000     1.000000  \n",
       "\n",
       "[8 rows x 22 columns]"
      ]
     },
     "execution_count": 31,
     "metadata": {},
     "output_type": "execute_result"
    }
   ],
   "source": [
    "df.describe()"
   ]
  },
  {
   "cell_type": "markdown",
   "metadata": {},
   "source": [
    "---"
   ]
  },
  {
   "cell_type": "markdown",
   "metadata": {},
   "source": [
    "### Visualization time!"
   ]
  },
  {
   "cell_type": "code",
   "execution_count": 32,
   "metadata": {
    "scrolled": true
   },
   "outputs": [
    {
     "data": {
      "text/plain": [
       "<matplotlib.axes._subplots.AxesSubplot at 0x7fb8ef81a9d0>"
      ]
     },
     "execution_count": 32,
     "metadata": {},
     "output_type": "execute_result"
    },
    {
     "data": {
      "image/png": "[encoded data removed]",
      "text/plain": [
       "<Figure size 720x360 with 2 Axes>"
      ]
     },
     "metadata": {
      "needs_background": "light"
     },
     "output_type": "display_data"
    }
   ],
   "source": [
    "plt.figure(figsize=(10,5))\n",
    "\n",
    "sns.heatmap(df.corr())"
   ]
  },
  {
   "cell_type": "code",
   "execution_count": 33,
   "metadata": {},
   "outputs": [
    {
     "name": "stderr",
     "output_type": "stream",
     "text": [
      "/Applications/anaconda3/lib/python3.7/site-packages/ipykernel_launcher.py:5: UserWarning: You have mixed positional and keyword arguments, some input may be discarded.\n",
      "  \"\"\"\n"
     ]
    },
    {
     "data": {
      "text/plain": [
       "<matplotlib.legend.Legend at 0x7fb8f08c2950>"
      ]
     },
     "execution_count": 33,
     "metadata": {},
     "output_type": "execute_result"
    },
    {
     "data": {
      "image/png": "[encoded data removed]",
      "text/plain": [
       "<Figure size 1008x432 with 1 Axes>"
      ]
     },
     "metadata": {
      "needs_background": "light"
     },
     "output_type": "display_data"
    }
   ],
   "source": [
    "plt.figure(figsize=(14,6))\n",
    "\n",
    "ax1=df[df[\"Fake\"]==0][\"emotiveness\"].hist(alpha=0.5)\n",
    "ax2=df[df[\"Fake\"]==1][\"emotiveness\"].hist(alpha=0.5)\n",
    "plt.legend([ax1, ax2], labels=[\"True\", \"Fake\"])"
   ]
  },
  {
   "cell_type": "code",
   "execution_count": 34,
   "metadata": {},
   "outputs": [
    {
     "name": "stderr",
     "output_type": "stream",
     "text": [
      "/Applications/anaconda3/lib/python3.7/site-packages/ipykernel_launcher.py:5: UserWarning: You have mixed positional and keyword arguments, some input may be discarded.\n",
      "  \"\"\"\n"
     ]
    },
    {
     "data": {
      "text/plain": [
       "<matplotlib.legend.Legend at 0x7fb8f0931f50>"
      ]
     },
     "execution_count": 34,
     "metadata": {},
     "output_type": "execute_result"
    },
    {
     "data": {
      "image/png": "[encoded data removed]",
      "text/plain": [
       "<Figure size 1008x432 with 1 Axes>"
      ]
     },
     "metadata": {
      "needs_background": "light"
     },
     "output_type": "display_data"
    }
   ],
   "source": [
    "plt.figure(figsize=(14,6))\n",
    "\n",
    "ax1=df[df[\"Fake\"]==0][\"diversity\"].hist(alpha=0.5)\n",
    "ax2=df[df[\"Fake\"]==1][\"diversity\"].hist(alpha=0.5)\n",
    "plt.legend([ax1, ax2], labels=[\"True\", \"Fake\"])"
   ]
  },
  {
   "cell_type": "code",
   "execution_count": 35,
   "metadata": {},
   "outputs": [
    {
     "data": {
      "text/plain": [
       "<matplotlib.axes._subplots.AxesSubplot at 0x7fb8f09fd310>"
      ]
     },
     "execution_count": 35,
     "metadata": {},
     "output_type": "execute_result"
    },
    {
     "data": {
      "image/png": "[encoded data removed]",
      "text/plain": [
       "<Figure size 720x504 with 2 Axes>"
      ]
     },
     "metadata": {
      "needs_background": "light"
     },
     "output_type": "display_data"
    }
   ],
   "source": [
    "plt.figure(figsize=(10,7))\n",
    "\n",
    "sns.heatmap(df.corr()[['Fake']], annot=True)"
   ]
  },
  {
   "cell_type": "code",
   "execution_count": 36,
   "metadata": {},
   "outputs": [],
   "source": [
    "#Correlation series with all the columns\n",
    "correlations = df.corr()[['Fake']]"
   ]
  },
  {
   "cell_type": "markdown",
   "metadata": {},
   "source": [
    "### Top positive correlations with Fake News"
   ]
  },
  {
   "cell_type": "code",
   "execution_count": 37,
   "metadata": {},
   "outputs": [
    {
     "data": {
      "text/html": [
       "<div>\n",
       "<style scoped>\n",
       "    .dataframe tbody tr th:only-of-type {\n",
       "        vertical-align: middle;\n",
       "    }\n",
       "\n",
       "    .dataframe tbody tr th {\n",
       "        vertical-align: top;\n",
       "    }\n",
       "\n",
       "    .dataframe thead th {\n",
       "        text-align: right;\n",
       "    }\n",
       "</style>\n",
       "<table border=\"1\" class=\"dataframe\">\n",
       "  <thead>\n",
       "    <tr style=\"text-align: right;\">\n",
       "      <th></th>\n",
       "      <th>Fake</th>\n",
       "    </tr>\n",
       "  </thead>\n",
       "  <tbody>\n",
       "    <tr>\n",
       "      <th>Fake</th>\n",
       "      <td>1.000000</td>\n",
       "    </tr>\n",
       "    <tr>\n",
       "      <th>diversity</th>\n",
       "      <td>0.809538</td>\n",
       "    </tr>\n",
       "    <tr>\n",
       "      <th>number of links inside the news</th>\n",
       "      <td>0.315815</td>\n",
       "    </tr>\n",
       "  </tbody>\n",
       "</table>\n",
       "</div>"
      ],
      "text/plain": [
       "                                     Fake\n",
       "Fake                             1.000000\n",
       "diversity                        0.809538\n",
       "number of links inside the news  0.315815"
      ]
     },
     "execution_count": 37,
     "metadata": {},
     "output_type": "execute_result"
    }
   ],
   "source": [
    "correlations.sort_values(by=['Fake'], ascending=[False]).head(3)"
   ]
  },
  {
   "cell_type": "code",
   "execution_count": 38,
   "metadata": {},
   "outputs": [
    {
     "data": {
      "text/plain": [
       "<matplotlib.axes._subplots.AxesSubplot at 0x7fb8f133b390>"
      ]
     },
     "execution_count": 38,
     "metadata": {},
     "output_type": "execute_result"
    },
    {
     "data": {
      "image/png": "[encoded data removed]",
      "text/plain": [
       "<Figure size 432x288 with 1 Axes>"
      ]
     },
     "metadata": {
      "needs_background": "light"
     },
     "output_type": "display_data"
    }
   ],
   "source": [
    "df[['percentage of news with spelling errors', 'Fake']].groupby(['Fake']).sum().plot.bar()"
   ]
  },
  {
   "cell_type": "code",
   "execution_count": 39,
   "metadata": {},
   "outputs": [
    {
     "data": {
      "text/plain": [
       "<matplotlib.axes._subplots.AxesSubplot at 0x7fb8f170ed90>"
      ]
     },
     "execution_count": 39,
     "metadata": {},
     "output_type": "execute_result"
    },
    {
     "data": {
      "image/png": "[encoded data removed]",
      "text/plain": [
       "<Figure size 432x288 with 1 Axes>"
      ]
     },
     "metadata": {
      "needs_background": "light"
     },
     "output_type": "display_data"
    }
   ],
   "source": [
    "df[['diversity', 'Fake']].groupby(['Fake']).mean().plot.bar()"
   ]
  },
  {
   "cell_type": "code",
   "execution_count": 40,
   "metadata": {},
   "outputs": [
    {
     "data": {
      "text/plain": [
       "<matplotlib.axes._subplots.AxesSubplot at 0x7fb8f17aac50>"
      ]
     },
     "execution_count": 40,
     "metadata": {},
     "output_type": "execute_result"
    },
    {
     "data": {
      "image/png": "[encoded data removed]",
      "text/plain": [
       "<Figure size 432x288 with 1 Axes>"
      ]
     },
     "metadata": {
      "needs_background": "light"
     },
     "output_type": "display_data"
    }
   ],
   "source": [
    "df[['number of links inside the news', 'Fake']].groupby(['Fake']).mean().plot.bar()"
   ]
  },
  {
   "cell_type": "markdown",
   "metadata": {},
   "source": [
    "### Top negative correlations with Fake News"
   ]
  },
  {
   "cell_type": "code",
   "execution_count": 41,
   "metadata": {},
   "outputs": [
    {
     "data": {
      "text/html": [
       "<div>\n",
       "<style scoped>\n",
       "    .dataframe tbody tr th:only-of-type {\n",
       "        vertical-align: middle;\n",
       "    }\n",
       "\n",
       "    .dataframe tbody tr th {\n",
       "        vertical-align: top;\n",
       "    }\n",
       "\n",
       "    .dataframe thead th {\n",
       "        text-align: right;\n",
       "    }\n",
       "</style>\n",
       "<table border=\"1\" class=\"dataframe\">\n",
       "  <thead>\n",
       "    <tr style=\"text-align: right;\">\n",
       "      <th></th>\n",
       "      <th>Fake</th>\n",
       "    </tr>\n",
       "  </thead>\n",
       "  <tbody>\n",
       "    <tr>\n",
       "      <th>number of adjectives</th>\n",
       "      <td>-0.602022</td>\n",
       "    </tr>\n",
       "    <tr>\n",
       "      <th>number of modal verbs (mainly auxiliary verbs)</th>\n",
       "      <td>-0.613285</td>\n",
       "    </tr>\n",
       "    <tr>\n",
       "      <th>number of verbs</th>\n",
       "      <td>-0.643903</td>\n",
       "    </tr>\n",
       "    <tr>\n",
       "      <th>number of tokens</th>\n",
       "      <td>-0.680178</td>\n",
       "    </tr>\n",
       "    <tr>\n",
       "      <th>number of words without punctuation</th>\n",
       "      <td>-0.682201</td>\n",
       "    </tr>\n",
       "    <tr>\n",
       "      <th>number of characters</th>\n",
       "      <td>-0.682997</td>\n",
       "    </tr>\n",
       "    <tr>\n",
       "      <th>number of nouns</th>\n",
       "      <td>-0.694120</td>\n",
       "    </tr>\n",
       "    <tr>\n",
       "      <th>number of types</th>\n",
       "      <td>-0.720794</td>\n",
       "    </tr>\n",
       "  </tbody>\n",
       "</table>\n",
       "</div>"
      ],
      "text/plain": [
       "                                                    Fake\n",
       "number of adjectives                           -0.602022\n",
       "number of modal verbs (mainly auxiliary verbs) -0.613285\n",
       "number of verbs                                -0.643903\n",
       "number of tokens                               -0.680178\n",
       "number of words without punctuation            -0.682201\n",
       "number of characters                           -0.682997\n",
       "number of nouns                                -0.694120\n",
       "number of types                                -0.720794"
      ]
     },
     "execution_count": 41,
     "metadata": {},
     "output_type": "execute_result"
    }
   ],
   "source": [
    "correlations.sort_values(by=['Fake'], ascending=[False]).tail(8)"
   ]
  },
  {
   "cell_type": "code",
   "execution_count": 42,
   "metadata": {},
   "outputs": [
    {
     "data": {
      "text/plain": [
       "<matplotlib.axes._subplots.AxesSubplot at 0x7fb8f1714cd0>"
      ]
     },
     "execution_count": 42,
     "metadata": {},
     "output_type": "execute_result"
    },
    {
     "data": {
      "image/png": "[encoded data removed]",
      "text/plain": [
       "<Figure size 432x288 with 1 Axes>"
      ]
     },
     "metadata": {
      "needs_background": "light"
     },
     "output_type": "display_data"
    }
   ],
   "source": [
    "df[['number of types', 'Fake']].groupby(['Fake']).mean().plot.bar()"
   ]
  },
  {
   "cell_type": "code",
   "execution_count": 43,
   "metadata": {},
   "outputs": [
    {
     "data": {
      "text/plain": [
       "<matplotlib.axes._subplots.AxesSubplot at 0x7fb8f1970510>"
      ]
     },
     "execution_count": 43,
     "metadata": {},
     "output_type": "execute_result"
    },
    {
     "data": {
      "image/png": "[encoded data removed]",
      "text/plain": [
       "<Figure size 432x288 with 1 Axes>"
      ]
     },
     "metadata": {
      "needs_background": "light"
     },
     "output_type": "display_data"
    }
   ],
   "source": [
    "df[['number of nouns', 'Fake']].groupby(['Fake']).mean().plot.bar()"
   ]
  },
  {
   "cell_type": "code",
   "execution_count": 44,
   "metadata": {},
   "outputs": [
    {
     "data": {
      "text/plain": [
       "<matplotlib.axes._subplots.AxesSubplot at 0x7fb8f1a40390>"
      ]
     },
     "execution_count": 44,
     "metadata": {},
     "output_type": "execute_result"
    },
    {
     "data": {
      "image/png": "[encoded data removed]",
      "text/plain": [
       "<Figure size 432x288 with 1 Axes>"
      ]
     },
     "metadata": {
      "needs_background": "light"
     },
     "output_type": "display_data"
    }
   ],
   "source": [
    "df[['number of characters', 'Fake']].groupby(['Fake']).mean().plot.bar()"
   ]
  },
  {
   "cell_type": "code",
   "execution_count": 45,
   "metadata": {},
   "outputs": [
    {
     "data": {
      "text/plain": [
       "<matplotlib.axes._subplots.AxesSubplot at 0x7fb8f1b09e10>"
      ]
     },
     "execution_count": 45,
     "metadata": {},
     "output_type": "execute_result"
    },
    {
     "data": {
      "image/png": "[encoded data removed]",
      "text/plain": [
       "<Figure size 432x288 with 1 Axes>"
      ]
     },
     "metadata": {
      "needs_background": "light"
     },
     "output_type": "display_data"
    }
   ],
   "source": [
    "df[['number of words without punctuation', 'Fake']].groupby(['Fake']).mean().plot.bar()"
   ]
  },
  {
   "cell_type": "code",
   "execution_count": 46,
   "metadata": {},
   "outputs": [
    {
     "data": {
      "text/plain": [
       "<matplotlib.axes._subplots.AxesSubplot at 0x7fb8f1b47410>"
      ]
     },
     "execution_count": 46,
     "metadata": {},
     "output_type": "execute_result"
    },
    {
     "data": {
      "image/png": "[encoded data removed]",
      "text/plain": [
       "<Figure size 432x288 with 1 Axes>"
      ]
     },
     "metadata": {
      "needs_background": "light"
     },
     "output_type": "display_data"
    }
   ],
   "source": [
    "df[['number of tokens', 'Fake']].groupby(['Fake']).mean().plot.bar()"
   ]
  },
  {
   "cell_type": "code",
   "execution_count": 47,
   "metadata": {},
   "outputs": [
    {
     "data": {
      "text/plain": [
       "<matplotlib.axes._subplots.AxesSubplot at 0x7fb8f1c97090>"
      ]
     },
     "execution_count": 47,
     "metadata": {},
     "output_type": "execute_result"
    },
    {
     "data": {
      "image/png": "[encoded data removed]",
      "text/plain": [
       "<Figure size 432x288 with 1 Axes>"
      ]
     },
     "metadata": {
      "needs_background": "light"
     },
     "output_type": "display_data"
    }
   ],
   "source": [
    "df[['number of verbs', 'Fake']].groupby(['Fake']).mean().plot.bar()"
   ]
  },
  {
   "cell_type": "code",
   "execution_count": 48,
   "metadata": {},
   "outputs": [
    {
     "data": {
      "text/html": [
       "<div>\n",
       "<style scoped>\n",
       "    .dataframe tbody tr th:only-of-type {\n",
       "        vertical-align: middle;\n",
       "    }\n",
       "\n",
       "    .dataframe tbody tr th {\n",
       "        vertical-align: top;\n",
       "    }\n",
       "\n",
       "    .dataframe thead th {\n",
       "        text-align: right;\n",
       "    }\n",
       "</style>\n",
       "<table border=\"1\" class=\"dataframe\">\n",
       "  <thead>\n",
       "    <tr style=\"text-align: right;\">\n",
       "      <th></th>\n",
       "      <th>number of modal verbs (mainly auxiliary verbs)</th>\n",
       "    </tr>\n",
       "    <tr>\n",
       "      <th>Fake</th>\n",
       "      <th></th>\n",
       "    </tr>\n",
       "  </thead>\n",
       "  <tbody>\n",
       "    <tr>\n",
       "      <th>0</th>\n",
       "      <td>23.253611</td>\n",
       "    </tr>\n",
       "    <tr>\n",
       "      <th>1</th>\n",
       "      <td>4.484444</td>\n",
       "    </tr>\n",
       "  </tbody>\n",
       "</table>\n",
       "</div>"
      ],
      "text/plain": [
       "      number of modal verbs (mainly auxiliary verbs)\n",
       "Fake                                                \n",
       "0                                          23.253611\n",
       "1                                           4.484444"
      ]
     },
     "execution_count": 48,
     "metadata": {},
     "output_type": "execute_result"
    }
   ],
   "source": [
    "df[['number of modal verbs (mainly auxiliary verbs)', 'Fake']].groupby(['Fake']).mean()"
   ]
  },
  {
   "cell_type": "code",
   "execution_count": 49,
   "metadata": {},
   "outputs": [
    {
     "data": {
      "text/html": [
       "<div>\n",
       "<style scoped>\n",
       "    .dataframe tbody tr th:only-of-type {\n",
       "        vertical-align: middle;\n",
       "    }\n",
       "\n",
       "    .dataframe tbody tr th {\n",
       "        vertical-align: top;\n",
       "    }\n",
       "\n",
       "    .dataframe thead th {\n",
       "        text-align: right;\n",
       "    }\n",
       "</style>\n",
       "<table border=\"1\" class=\"dataframe\">\n",
       "  <thead>\n",
       "    <tr style=\"text-align: right;\">\n",
       "      <th></th>\n",
       "      <th>number of adjectives</th>\n",
       "    </tr>\n",
       "    <tr>\n",
       "      <th>Fake</th>\n",
       "      <th></th>\n",
       "    </tr>\n",
       "  </thead>\n",
       "  <tbody>\n",
       "    <tr>\n",
       "      <th>0</th>\n",
       "      <td>57.054444</td>\n",
       "    </tr>\n",
       "    <tr>\n",
       "      <th>1</th>\n",
       "      <td>9.254444</td>\n",
       "    </tr>\n",
       "  </tbody>\n",
       "</table>\n",
       "</div>"
      ],
      "text/plain": [
       "      number of adjectives\n",
       "Fake                      \n",
       "0                57.054444\n",
       "1                 9.254444"
      ]
     },
     "execution_count": 49,
     "metadata": {},
     "output_type": "execute_result"
    }
   ],
   "source": [
    "df[['number of adjectives', 'Fake']].groupby(['Fake']).mean()"
   ]
  }
 ],
 "metadata": {
  "kernelspec": {
   "display_name": "Python 3",
   "language": "python",
   "name": "python3"
  },
  "language_info": {
   "codemirror_mode": {
    "name": "ipython",
    "version": 3
   },
   "file_extension": ".py",
   "mimetype": "text/x-python",
   "name": "python",
   "nbconvert_exporter": "python",
   "pygments_lexer": "ipython3",
   "version": "3.7.6"
  }
 },
 "nbformat": 4,
 "nbformat_minor": 4
}
