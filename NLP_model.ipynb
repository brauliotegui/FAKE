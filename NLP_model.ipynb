{
 "cells": [
  {
   "cell_type": "code",
   "execution_count": 1,
   "metadata": {},
   "outputs": [],
   "source": [
    "import pandas as pd\n",
    "import os\n",
    "import numpy as np"
   ]
  },
  {
   "cell_type": "code",
   "execution_count": 2,
   "metadata": {},
   "outputs": [],
   "source": [
    "import matplotlib.pyplot as plt\n",
    "import seaborn as sns"
   ]
  },
  {
   "cell_type": "code",
   "execution_count": 3,
   "metadata": {},
   "outputs": [],
   "source": [
    "from sklearn.feature_extraction.text import TfidfVectorizer, CountVectorizer, TfidfTransformer"
   ]
  },
  {
   "cell_type": "code",
   "execution_count": 4,
   "metadata": {},
   "outputs": [],
   "source": [
    "from sklearn.model_selection import train_test_split"
   ]
  },
  {
   "cell_type": "code",
   "execution_count": 5,
   "metadata": {},
   "outputs": [],
   "source": [
    "from sklearn.linear_model import LogisticRegression\n",
    "from sklearn.ensemble import RandomForestClassifier\n",
    "from sklearn.naive_bayes import MultinomialNB, CategoricalNB"
   ]
  },
  {
   "cell_type": "code",
   "execution_count": 6,
   "metadata": {},
   "outputs": [],
   "source": [
    "from sklearn import metrics\n",
    "from sklearn.metrics import accuracy_score, recall_score, precision_score, confusion_matrix"
   ]
  },
  {
   "cell_type": "markdown",
   "metadata": {},
   "source": [
    "---"
   ]
  },
  {
   "cell_type": "markdown",
   "metadata": {},
   "source": [
    "# Load data"
   ]
  },
  {
   "cell_type": "code",
   "execution_count": 7,
   "metadata": {},
   "outputs": [
    {
     "data": {
      "text/plain": [
       "'/Users/braulio/Documents/github/FAKE'"
      ]
     },
     "execution_count": 7,
     "metadata": {},
     "output_type": "execute_result"
    }
   ],
   "source": [
    "pwd"
   ]
  },
  {
   "cell_type": "code",
   "execution_count": 8,
   "metadata": {},
   "outputs": [],
   "source": [
    "CORPUS = []\n",
    "LABEL = []"
   ]
  },
  {
   "cell_type": "code",
   "execution_count": 9,
   "metadata": {},
   "outputs": [],
   "source": [
    "# Step 1: get all the fake news text files into a list named corpus, give them label 1 -- fake\n",
    "dir1 = 'Data/size_normalized_texts/fake/'\n",
    "list = os.listdir(dir1)\n",
    "number_files = len(list)"
   ]
  },
  {
   "cell_type": "code",
   "execution_count": 10,
   "metadata": {},
   "outputs": [],
   "source": [
    "for i in range(number_files):\n",
    "        title = list[i]\n",
    "        LABEL.append(1)\n",
    "        with open(dir1 + title,'r') as reader:\n",
    "\n",
    "            doc = reader.read()\n",
    "            doc.lower()\n",
    "            doc.split()\n",
    "            reader.close\n",
    "            CORPUS.append(doc)"
   ]
  },
  {
   "cell_type": "code",
   "execution_count": 11,
   "metadata": {},
   "outputs": [],
   "source": [
    "assert len(CORPUS) == len(LABEL)"
   ]
  },
  {
   "cell_type": "code",
   "execution_count": 12,
   "metadata": {},
   "outputs": [
    {
     "data": {
      "text/plain": [
       "3600"
      ]
     },
     "execution_count": 12,
     "metadata": {},
     "output_type": "execute_result"
    }
   ],
   "source": [
    "len(CORPUS)"
   ]
  },
  {
   "cell_type": "code",
   "execution_count": 13,
   "metadata": {},
   "outputs": [],
   "source": [
    "# Step 2: repeat the procedure with true news, give them label 0 -- true"
   ]
  },
  {
   "cell_type": "code",
   "execution_count": 14,
   "metadata": {},
   "outputs": [],
   "source": [
    "dir2 = 'Data/size_normalized_texts/true/'\n",
    "list = os.listdir(dir2)\n",
    "number_files = len(list)"
   ]
  },
  {
   "cell_type": "code",
   "execution_count": 15,
   "metadata": {},
   "outputs": [],
   "source": [
    "for i in range(number_files):\n",
    "        title = list[i]\n",
    "        LABEL.append(0)\n",
    "        with open(dir2 + title,'r') as reader:\n",
    "\n",
    "            doc = reader.read()\n",
    "            doc.lower()\n",
    "            doc.split()\n",
    "            reader.close\n",
    "            CORPUS.append(doc)"
   ]
  },
  {
   "cell_type": "code",
   "execution_count": 16,
   "metadata": {},
   "outputs": [],
   "source": [
    "assert len(CORPUS) == len(LABEL)"
   ]
  },
  {
   "cell_type": "markdown",
   "metadata": {},
   "source": [
    "# Vectorize words"
   ]
  },
  {
   "cell_type": "code",
   "execution_count": 17,
   "metadata": {},
   "outputs": [],
   "source": [
    "#stop words in portuguese br:\n",
    "custom = ['como', 'um', 'que', 'para', 'como', 'uma', 'de', 'ou', 'os', 'em', 'por', 'ma',\n",
    "                 'se', 'era', 'ela', 'ele', 'era', 'seu', 'sua', 'mai', 'mas', 'nos', 'isso', 'mas', 'entre', \n",
    "                 'entre', 'outro', 'na', 'até', 'sobre', 'essa', 'esse', 'quando', 'mais', 'ao', 'dos', 'tem', \n",
    "                  'dos', 'está', 'não', 'da', 'disse', 'diz', 'foi', 'caso', 'outra', 'também', 'já', 'ano', \n",
    "                'ainda', 'são', 'anos', 'sem', 'porque', 'há', 'eles', 'segundo', 'afirmou', 'acordo', 'muito', \n",
    "               'todo', 'muito', 'conta', 'mesmo', 'dele', 'todos', 'dia', 'depois', 'então', 'tudo', 'seja', 'quem'\n",
    "               'toda', 'após', 'só', 'agora', 'hoje', 'foram', 'grupo', 'assim', 'fazer', 'desde', 'eu', 'estava',\n",
    "               'estão', 'durante', 'onde', 'das', 'vai', 'onde', 'deu', 'quem', 'qual', 'toda', 'ante', 'outros', \n",
    "               'pela', 'fez', 'pelo', 'tinha']"
   ]
  },
  {
   "cell_type": "code",
   "execution_count": 18,
   "metadata": {},
   "outputs": [],
   "source": [
    "def vectors_and_df(corpus, label):\n",
    "    \"\"\"creates vectors for songs and returns dataframe with songs as word vectors \n",
    "    by all artists\"\"\"\n",
    "    \n",
    "    cv = TfidfVectorizer()\n",
    "    cv.fit(corpus)\n",
    "    corpus_vecs = cv.transform(corpus)\n",
    "    \n",
    "    return pd.DataFrame(corpus_vecs.todense(), index=label, \n",
    "                        columns=cv.get_feature_names()), cv"
   ]
  },
  {
   "cell_type": "code",
   "execution_count": 19,
   "metadata": {},
   "outputs": [],
   "source": [
    "# Store results into dataframe, keep cv for later prediction\n",
    "df, cv = vectors_and_df(CORPUS, LABEL)"
   ]
  },
  {
   "cell_type": "markdown",
   "metadata": {},
   "source": [
    "# Split and train data"
   ]
  },
  {
   "cell_type": "code",
   "execution_count": 20,
   "metadata": {},
   "outputs": [],
   "source": [
    "# Define features and target column\n",
    "X = df\n",
    "y = df.index"
   ]
  },
  {
   "cell_type": "code",
   "execution_count": 21,
   "metadata": {
    "scrolled": true
   },
   "outputs": [],
   "source": [
    "Xtrain, Xtest, ytrain, ytest = train_test_split(X, y, test_size=0.2)"
   ]
  },
  {
   "cell_type": "markdown",
   "metadata": {},
   "source": [
    "## Try different models"
   ]
  },
  {
   "cell_type": "markdown",
   "metadata": {},
   "source": [
    "Improve logistic regression only by increasing C? Any better way to get better parameters?"
   ]
  },
  {
   "cell_type": "code",
   "execution_count": 22,
   "metadata": {},
   "outputs": [],
   "source": [
    "MODELS = {\n",
    "    \"MultinomialNB\": {\"alpha\": 0.005},\n",
    "    \"CategoricalNB\": {\"alpha\": 0.01},\n",
    "    \"RandomForestClassifier\": {\n",
    "        \"n_estimators\": 500,\n",
    "        \"max_depth\": 200,\n",
    "        \"max_features\": \"auto\",\n",
    "        \"n_jobs\": -1,\n",
    "        \"random_state\": 1,\n",
    "    },\n",
    "    \"LogisticRegression\": {\"C\": 2e7},\n",
    "}\n",
    "\n",
    "def train_models(models_params):\n",
    "    \"\"\"trains models on corpus and returns dataframe with scores\"\"\"\n",
    "    \n",
    "    scores = {}\n",
    "    for model in models_params:\n",
    "        if model == \"LogisticRegression\":\n",
    "            m = LogisticRegression(**models_params[model])\n",
    "        elif model == \"RandomForestClassifier\":\n",
    "            m = RandomForestClassifier(**models_params[model])\n",
    "        elif model == \"MultinomialNB\":\n",
    "            m = MultinomialNB(**models_params[model])\n",
    "        elif model == \"CategoricalNB\":\n",
    "            m = MultinomialNB(**models_params[model])\n",
    "\n",
    "        m.fit(Xtrain, ytrain)\n",
    "        score_train = m.score(Xtrain, ytrain)\n",
    "        score_test = m.score(Xtest, ytest)\n",
    "        scores[f\"{model}\"] = {\n",
    "            \"params\": models_params[model],\n",
    "            \"train score\": score_train,\n",
    "            \"test score\": score_test,\n",
    "            }\n",
    "    return pd.DataFrame(scores).T"
   ]
  },
  {
   "cell_type": "code",
   "execution_count": 23,
   "metadata": {},
   "outputs": [
    {
     "data": {
      "text/html": [
       "<div>\n",
       "<style scoped>\n",
       "    .dataframe tbody tr th:only-of-type {\n",
       "        vertical-align: middle;\n",
       "    }\n",
       "\n",
       "    .dataframe tbody tr th {\n",
       "        vertical-align: top;\n",
       "    }\n",
       "\n",
       "    .dataframe thead th {\n",
       "        text-align: right;\n",
       "    }\n",
       "</style>\n",
       "<table border=\"1\" class=\"dataframe\">\n",
       "  <thead>\n",
       "    <tr style=\"text-align: right;\">\n",
       "      <th></th>\n",
       "      <th>params</th>\n",
       "      <th>train score</th>\n",
       "      <th>test score</th>\n",
       "    </tr>\n",
       "  </thead>\n",
       "  <tbody>\n",
       "    <tr>\n",
       "      <th>MultinomialNB</th>\n",
       "      <td>{'alpha': 0.005}</td>\n",
       "      <td>0.98941</td>\n",
       "      <td>0.861111</td>\n",
       "    </tr>\n",
       "    <tr>\n",
       "      <th>CategoricalNB</th>\n",
       "      <td>{'alpha': 0.01}</td>\n",
       "      <td>0.988194</td>\n",
       "      <td>0.8625</td>\n",
       "    </tr>\n",
       "    <tr>\n",
       "      <th>RandomForestClassifier</th>\n",
       "      <td>{'n_estimators': 500, 'max_depth': 200, 'max_f...</td>\n",
       "      <td>1</td>\n",
       "      <td>0.879167</td>\n",
       "    </tr>\n",
       "    <tr>\n",
       "      <th>LogisticRegression</th>\n",
       "      <td>{'C': 20000000.0}</td>\n",
       "      <td>1</td>\n",
       "      <td>0.928472</td>\n",
       "    </tr>\n",
       "  </tbody>\n",
       "</table>\n",
       "</div>"
      ],
      "text/plain": [
       "                                                                   params  \\\n",
       "MultinomialNB                                            {'alpha': 0.005}   \n",
       "CategoricalNB                                             {'alpha': 0.01}   \n",
       "RandomForestClassifier  {'n_estimators': 500, 'max_depth': 200, 'max_f...   \n",
       "LogisticRegression                                      {'C': 20000000.0}   \n",
       "\n",
       "                       train score test score  \n",
       "MultinomialNB              0.98941   0.861111  \n",
       "CategoricalNB             0.988194     0.8625  \n",
       "RandomForestClassifier           1   0.879167  \n",
       "LogisticRegression               1   0.928472  "
      ]
     },
     "execution_count": 23,
     "metadata": {},
     "output_type": "execute_result"
    }
   ],
   "source": [
    "train_models(MODELS)"
   ]
  },
  {
   "cell_type": "code",
   "execution_count": 24,
   "metadata": {},
   "outputs": [
    {
     "data": {
      "text/plain": [
       "LogisticRegression(C=20000000.0, max_iter=300)"
      ]
     },
     "execution_count": 24,
     "metadata": {},
     "output_type": "execute_result"
    }
   ],
   "source": [
    "# Train on most promising model\n",
    "model = \"LogisticRegression\"\n",
    "m = LogisticRegression(**MODELS[model], max_iter=300)\n",
    "m.fit(Xtrain, ytrain)"
   ]
  },
  {
   "cell_type": "code",
   "execution_count": 25,
   "metadata": {},
   "outputs": [
    {
     "name": "stdout",
     "output_type": "stream",
     "text": [
      "1.0\n",
      "0.9284722222222223\n"
     ]
    }
   ],
   "source": [
    "# Create the predictions for Y training data\n",
    "preds = m.predict(Xtest)\n",
    "\n",
    "print(m.score(Xtrain, ytrain))\n",
    "print(m.score(Xtest, ytest))"
   ]
  },
  {
   "cell_type": "code",
   "execution_count": 26,
   "metadata": {},
   "outputs": [],
   "source": [
    "# Create a confusion matrix\n",
    "cnf_matrix = metrics.confusion_matrix(ytest, preds)"
   ]
  },
  {
   "cell_type": "code",
   "execution_count": 33,
   "metadata": {},
   "outputs": [
    {
     "data": {
      "image/png": "[encoded data removed]",
      "text/plain": [
       "<Figure size 432x288 with 2 Axes>"
      ]
     },
     "metadata": {
      "needs_background": "light"
     },
     "output_type": "display_data"
    }
   ],
   "source": [
    "# name  of classes\n",
    "class_names=[0,1] \n",
    "\n",
    "# Set fig and axes \n",
    "fig, ax = plt.subplots()\n",
    "tick_marks = np.arange(len(class_names))\n",
    "plt.xticks(tick_marks, class_names)\n",
    "plt.yticks(tick_marks, class_names)\n",
    "\n",
    "# Create heatmap\n",
    "sns.heatmap(pd.DataFrame(cnf_matrix), annot=True, cmap=\"YlGnBu\" ,fmt='g')\n",
    "ax.xaxis.set_label_position(\"top\")\n",
    "plt.tight_layout()\n",
    "plt.title('Confusion matrix', y=1.1)\n",
    "plt.ylabel('Actual label')\n",
    "plt.xlabel('Predicted label')\n",
    "plt.savefig('confusion_matrix.png', dpi=200, bbox_inches='tight', pad_inches=0.5)"
   ]
  },
  {
   "cell_type": "code",
   "execution_count": 28,
   "metadata": {},
   "outputs": [],
   "source": [
    "# Assign True Neg, False Pos, False Neg, True Pos variables\n",
    "cnf_matrix = np.array(cnf_matrix).tolist()\n",
    "\n",
    "tn_fp, fn_tp = cnf_matrix\n",
    "\n",
    "tn, fp = tn_fp\n",
    "fn, tp = fn_tp"
   ]
  },
  {
   "cell_type": "code",
   "execution_count": 29,
   "metadata": {},
   "outputs": [
    {
     "name": "stdout",
     "output_type": "stream",
     "text": [
      "Accuracy: 92.85 %\n",
      "Precision: 92.19 %\n",
      "Recall: 93.36 %\n",
      "Specificity: 92.35 %\n",
      "Misclassification Rate: 7.08 %\n"
     ]
    }
   ],
   "source": [
    "# Print Scores \n",
    "\n",
    "print(\"Accuracy:\",round(metrics.accuracy_score(ytest, preds)*100, 2),'%')\n",
    "print(\"Precision:\",round(metrics.precision_score(ytest, preds)*100, 2), '%')\n",
    "print(\"Recall:\",round(metrics.recall_score(ytest, preds)*100, 2), '%')\n",
    "print(\"Specificity:\", round((tn/(tn+fp))*100, 2), '%')\n",
    "print(\"Misclassification Rate:\", round((fp+fn)/(tn+fp+fn+tn)*100, 2), '%')"
   ]
  },
  {
   "cell_type": "markdown",
   "metadata": {},
   "source": [
    "# Train the entire dataset on best perfoming model"
   ]
  },
  {
   "cell_type": "code",
   "execution_count": 30,
   "metadata": {},
   "outputs": [
    {
     "data": {
      "text/plain": [
       "LogisticRegression(C=20000000.0, max_iter=200)"
      ]
     },
     "execution_count": 30,
     "metadata": {},
     "output_type": "execute_result"
    }
   ],
   "source": [
    "model = \"LogisticRegression\"\n",
    "m = LogisticRegression(**MODELS[model], max_iter=200)\n",
    "m.fit(X, y)"
   ]
  },
  {
   "cell_type": "markdown",
   "metadata": {},
   "source": [
    "# Create prediction function"
   ]
  },
  {
   "cell_type": "code",
   "execution_count": 31,
   "metadata": {},
   "outputs": [],
   "source": [
    "def predict(new_text):\n",
    "    \n",
    "    \"\"\"\n",
    "    Takes the pre-trained model pipeline and predicts new artist based on unseen text.\n",
    "    \n",
    "    Parameters\n",
    "    ----------\n",
    "    model : Trained scikit-learn model pipeline.\n",
    "    new_text : str\n",
    "    \n",
    "    Returns\n",
    "    ---------\n",
    "    prediction : str\n",
    "    \n",
    "    \"\"\"\n",
    "    article = [new_text]\n",
    "    # transform song into vector matrix\n",
    "    new_article_vecs = cv.transform(article)\n",
    "    ynew = new_article_vecs.todense()\n",
    "    \n",
    "    prediction = m.predict(ynew)\n",
    "    \n",
    "    return prediction[0]"
   ]
  },
  {
   "cell_type": "code",
   "execution_count": 32,
   "metadata": {},
   "outputs": [
    {
     "name": "stdout",
     "output_type": "stream",
     "text": [
      "Please Enter Some Text: test\n",
      "Here is your prediction!\n",
      "1\n"
     ]
    }
   ],
   "source": [
    "if __name__ == '__main__':\n",
    "    # Whatever happens after this line, execute it when running \"python lyrics_classifier.py\"\n",
    "    # and DO NOT execute these lines of code if things from this script are imported from other scripts.\n",
    "    \n",
    "    user_input = input('Please Enter Some Text: ')\n",
    "\n",
    "    prediction = predict(user_input)\n",
    "    print('Here is your prediction!')\n",
    "    print(prediction)"
   ]
  },
  {
   "cell_type": "code",
   "execution_count": null,
   "metadata": {},
   "outputs": [],
   "source": []
  }
 ],
 "metadata": {
  "kernelspec": {
   "display_name": "Python 3",
   "language": "python",
   "name": "python3"
  },
  "language_info": {
   "codemirror_mode": {
    "name": "ipython",
    "version": 3
   },
   "file_extension": ".py",
   "mimetype": "text/x-python",
   "name": "python",
   "nbconvert_exporter": "python",
   "pygments_lexer": "ipython3",
   "version": "3.7.6"
  }
 },
 "nbformat": 4,
 "nbformat_minor": 4
}
