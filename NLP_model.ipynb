{
 "cells": [
  {
   "cell_type": "code",
   "execution_count": 1,
   "metadata": {},
   "outputs": [],
   "source": [
    "import pandas as pd\n",
    "import os"
   ]
  },
  {
   "cell_type": "code",
   "execution_count": 2,
   "metadata": {},
   "outputs": [],
   "source": [
    "from sklearn.feature_extraction.text import TfidfVectorizer, CountVectorizer, TfidfTransformer"
   ]
  },
  {
   "cell_type": "code",
   "execution_count": 3,
   "metadata": {},
   "outputs": [],
   "source": [
    "from sklearn.model_selection import train_test_split"
   ]
  },
  {
   "cell_type": "code",
   "execution_count": 4,
   "metadata": {},
   "outputs": [],
   "source": [
    "from sklearn.linear_model import LogisticRegression\n",
    "from sklearn.ensemble import RandomForestClassifier\n",
    "from sklearn.naive_bayes import MultinomialNB, CategoricalNB"
   ]
  },
  {
   "cell_type": "markdown",
   "metadata": {},
   "source": [
    "---"
   ]
  },
  {
   "cell_type": "markdown",
   "metadata": {},
   "source": [
    "# Load data"
   ]
  },
  {
   "cell_type": "code",
   "execution_count": 5,
   "metadata": {},
   "outputs": [
    {
     "data": {
      "text/plain": [
       "'/Users/braulio/Documents/github/FAKE'"
      ]
     },
     "execution_count": 5,
     "metadata": {},
     "output_type": "execute_result"
    }
   ],
   "source": [
    "pwd"
   ]
  },
  {
   "cell_type": "code",
   "execution_count": 6,
   "metadata": {},
   "outputs": [],
   "source": [
    "CORPUS = []\n",
    "LABEL = []"
   ]
  },
  {
   "cell_type": "code",
   "execution_count": 7,
   "metadata": {},
   "outputs": [],
   "source": [
    "# Step 1: get all the fake news text files into a list named corpus, give them label 1 -- fake\n",
    "dir1 = 'Data/size_normalized_texts/fake/'\n",
    "list = os.listdir(dir1)\n",
    "number_files = len(list)"
   ]
  },
  {
   "cell_type": "code",
   "execution_count": 8,
   "metadata": {},
   "outputs": [],
   "source": [
    "for i in range(number_files):\n",
    "        title = list[i]\n",
    "        LABEL.append(1)\n",
    "        with open(dir1 + title,'r') as reader:\n",
    "\n",
    "            doc = reader.read()\n",
    "            doc.lower()\n",
    "            doc.split()\n",
    "            reader.close\n",
    "            CORPUS.append(doc)"
   ]
  },
  {
   "cell_type": "code",
   "execution_count": 9,
   "metadata": {},
   "outputs": [],
   "source": [
    "assert len(CORPUS) == len(LABEL)"
   ]
  },
  {
   "cell_type": "code",
   "execution_count": 10,
   "metadata": {},
   "outputs": [
    {
     "data": {
      "text/plain": [
       "3600"
      ]
     },
     "execution_count": 10,
     "metadata": {},
     "output_type": "execute_result"
    }
   ],
   "source": [
    "len(CORPUS)"
   ]
  },
  {
   "cell_type": "code",
   "execution_count": 11,
   "metadata": {},
   "outputs": [],
   "source": [
    "# Step 2: repeat the procedure with true news, give them label 0 -- true"
   ]
  },
  {
   "cell_type": "code",
   "execution_count": 12,
   "metadata": {},
   "outputs": [],
   "source": [
    "dir2 = 'Data/size_normalized_texts/true/'\n",
    "list = os.listdir(dir2)\n",
    "number_files = len(list)"
   ]
  },
  {
   "cell_type": "code",
   "execution_count": 13,
   "metadata": {},
   "outputs": [],
   "source": [
    "for i in range(number_files):\n",
    "        title = list[i]\n",
    "        LABEL.append(0)\n",
    "        with open(dir2 + title,'r') as reader:\n",
    "\n",
    "            doc = reader.read()\n",
    "            doc.lower()\n",
    "            doc.split()\n",
    "            reader.close\n",
    "            CORPUS.append(doc)"
   ]
  },
  {
   "cell_type": "code",
   "execution_count": 14,
   "metadata": {},
   "outputs": [],
   "source": [
    "assert len(CORPUS) == len(LABEL)"
   ]
  },
  {
   "cell_type": "markdown",
   "metadata": {},
   "source": [
    "# Vectorize words"
   ]
  },
  {
   "cell_type": "code",
   "execution_count": 15,
   "metadata": {},
   "outputs": [],
   "source": [
    "#stop words in portuguese br:\n",
    "custom = ['como', 'um', 'que', 'para', 'como', 'uma', 'de', 'ou', 'os', 'em', 'por', 'ma',\n",
    "                 'se', 'era', 'ela', 'ele', 'era', 'seu', 'sua', 'mai', 'mas', 'nos', 'isso', 'mas', 'entre', \n",
    "                 'entre', 'outro', 'na', 'até', 'sobre', 'essa', 'esse', 'quando', 'mais', 'ao', 'dos', 'tem', \n",
    "                  'dos', 'está', 'não', 'da', 'disse', 'diz', 'foi', 'caso', 'outra', 'também', 'já', 'ano', \n",
    "                'ainda', 'são', 'anos', 'sem', 'porque', 'há', 'eles', 'segundo', 'afirmou', 'acordo', 'muito', \n",
    "               'todo', 'muito', 'conta', 'mesmo', 'dele', 'todos', 'dia', 'depois', 'então', 'tudo', 'seja', 'quem'\n",
    "               'toda', 'após', 'só', 'agora', 'hoje', 'foram', 'grupo', 'assim', 'fazer', 'desde', 'eu', 'estava',\n",
    "               'estão', 'durante', 'onde', 'das', 'vai', 'onde', 'deu', 'quem', 'qual', 'toda', 'ante', 'outros', \n",
    "               'pela', 'fez', 'pelo', 'tinha']"
   ]
  },
  {
   "cell_type": "code",
   "execution_count": 16,
   "metadata": {},
   "outputs": [],
   "source": [
    "def vectors_and_df(corpus, label):\n",
    "    \"\"\"creates vectors for songs and returns dataframe with songs as word vectors \n",
    "    by all artists\"\"\"\n",
    "    \n",
    "    cv = TfidfVectorizer()\n",
    "    cv.fit(corpus)\n",
    "    corpus_vecs = cv.transform(corpus)\n",
    "    \n",
    "    return pd.DataFrame(corpus_vecs.todense(), index=label, \n",
    "                        columns=cv.get_feature_names()), cv"
   ]
  },
  {
   "cell_type": "code",
   "execution_count": 17,
   "metadata": {},
   "outputs": [],
   "source": [
    "# Store results into dataframe, keep cv for later prediction\n",
    "df, cv = vectors_and_df(CORPUS, LABEL)"
   ]
  },
  {
   "cell_type": "markdown",
   "metadata": {},
   "source": [
    "# Split and train data"
   ]
  },
  {
   "cell_type": "code",
   "execution_count": 18,
   "metadata": {},
   "outputs": [],
   "source": [
    "# Define features and target column\n",
    "X = df\n",
    "y = df.index"
   ]
  },
  {
   "cell_type": "code",
   "execution_count": 19,
   "metadata": {
    "scrolled": true
   },
   "outputs": [],
   "source": [
    "Xtrain, Xtest, ytrain, ytest = train_test_split(X, y, test_size=0.2)"
   ]
  },
  {
   "cell_type": "markdown",
   "metadata": {},
   "source": [
    "## Try different models"
   ]
  },
  {
   "cell_type": "markdown",
   "metadata": {},
   "source": [
    "Improve logistic regression only by increasing C? Any better way to get better parameters?"
   ]
  },
  {
   "cell_type": "code",
   "execution_count": 20,
   "metadata": {},
   "outputs": [],
   "source": [
    "MODELS = {\n",
    "    \"MultinomialNB\": {\"alpha\": 0.005},\n",
    "    \"CategoricalNB\": {\"alpha\": 0.01},\n",
    "    \"RandomForestClassifier\": {\n",
    "        \"n_estimators\": 500,\n",
    "        \"max_depth\": 200,\n",
    "        \"max_features\": \"auto\",\n",
    "        \"n_jobs\": -1,\n",
    "        \"random_state\": 1,\n",
    "    },\n",
    "    \"LogisticRegression\": {\"C\": 12.5},\n",
    "}\n",
    "\n",
    "def train_models(models_params):\n",
    "    \"\"\"trains models on corpus and returns dataframe with scores\"\"\"\n",
    "    \n",
    "    scores = {}\n",
    "    for model in models_params:\n",
    "        if model == \"LogisticRegression\":\n",
    "            m = LogisticRegression(**models_params[model])\n",
    "        elif model == \"RandomForestClassifier\":\n",
    "            m = RandomForestClassifier(**models_params[model])\n",
    "        elif model == \"MultinomialNB\":\n",
    "            m = MultinomialNB(**models_params[model])\n",
    "        elif model == \"CategoricalNB\":\n",
    "            m = MultinomialNB(**models_params[model])\n",
    "\n",
    "        m.fit(Xtrain, ytrain)\n",
    "        score_train = m.score(Xtrain, ytrain)\n",
    "        score_test = m.score(Xtest, ytest)\n",
    "        scores[f\"{model}\"] = {\n",
    "            \"params\": models_params[model],\n",
    "            \"train score\": score_train,\n",
    "            \"test score\": score_test,\n",
    "            }\n",
    "    return pd.DataFrame(scores).T"
   ]
  },
  {
   "cell_type": "code",
   "execution_count": 21,
   "metadata": {},
   "outputs": [
    {
     "data": {
      "text/html": [
       "<div>\n",
       "<style scoped>\n",
       "    .dataframe tbody tr th:only-of-type {\n",
       "        vertical-align: middle;\n",
       "    }\n",
       "\n",
       "    .dataframe tbody tr th {\n",
       "        vertical-align: top;\n",
       "    }\n",
       "\n",
       "    .dataframe thead th {\n",
       "        text-align: right;\n",
       "    }\n",
       "</style>\n",
       "<table border=\"1\" class=\"dataframe\">\n",
       "  <thead>\n",
       "    <tr style=\"text-align: right;\">\n",
       "      <th></th>\n",
       "      <th>params</th>\n",
       "      <th>train score</th>\n",
       "      <th>test score</th>\n",
       "    </tr>\n",
       "  </thead>\n",
       "  <tbody>\n",
       "    <tr>\n",
       "      <th>MultinomialNB</th>\n",
       "      <td>{'alpha': 0.005}</td>\n",
       "      <td>0.98941</td>\n",
       "      <td>0.834028</td>\n",
       "    </tr>\n",
       "    <tr>\n",
       "      <th>CategoricalNB</th>\n",
       "      <td>{'alpha': 0.01}</td>\n",
       "      <td>0.988368</td>\n",
       "      <td>0.84375</td>\n",
       "    </tr>\n",
       "    <tr>\n",
       "      <th>RandomForestClassifier</th>\n",
       "      <td>{'n_estimators': 500, 'max_depth': 200, 'max_f...</td>\n",
       "      <td>1</td>\n",
       "      <td>0.897222</td>\n",
       "    </tr>\n",
       "    <tr>\n",
       "      <th>LogisticRegression</th>\n",
       "      <td>{'C': 12.5}</td>\n",
       "      <td>0.999826</td>\n",
       "      <td>0.920833</td>\n",
       "    </tr>\n",
       "  </tbody>\n",
       "</table>\n",
       "</div>"
      ],
      "text/plain": [
       "                                                                   params  \\\n",
       "MultinomialNB                                            {'alpha': 0.005}   \n",
       "CategoricalNB                                             {'alpha': 0.01}   \n",
       "RandomForestClassifier  {'n_estimators': 500, 'max_depth': 200, 'max_f...   \n",
       "LogisticRegression                                            {'C': 12.5}   \n",
       "\n",
       "                       train score test score  \n",
       "MultinomialNB              0.98941   0.834028  \n",
       "CategoricalNB             0.988368    0.84375  \n",
       "RandomForestClassifier           1   0.897222  \n",
       "LogisticRegression        0.999826   0.920833  "
      ]
     },
     "execution_count": 21,
     "metadata": {},
     "output_type": "execute_result"
    }
   ],
   "source": [
    "train_models(MODELS)"
   ]
  },
  {
   "cell_type": "code",
   "execution_count": 22,
   "metadata": {},
   "outputs": [
    {
     "data": {
      "text/plain": [
       "LogisticRegression(C=12.5, max_iter=200)"
      ]
     },
     "execution_count": 22,
     "metadata": {},
     "output_type": "execute_result"
    }
   ],
   "source": [
    "# Train on most promising model\n",
    "model = \"LogisticRegression\"\n",
    "m = LogisticRegression(**MODELS[model], max_iter=200)\n",
    "m.fit(Xtrain, ytrain)"
   ]
  },
  {
   "cell_type": "code",
   "execution_count": 23,
   "metadata": {},
   "outputs": [
    {
     "name": "stdout",
     "output_type": "stream",
     "text": [
      "0.9998263888888889\n",
      "0.9208333333333333\n"
     ]
    }
   ],
   "source": [
    "# Create the predictions for Y training data\n",
    "preds = m.predict(Xtest)\n",
    "\n",
    "print(m.score(Xtrain, ytrain))\n",
    "print(m.score(Xtest, ytest))"
   ]
  },
  {
   "cell_type": "code",
   "execution_count": 24,
   "metadata": {},
   "outputs": [],
   "source": [
    "from sklearn import metrics\n",
    "from sklearn.metrics import accuracy_score, recall_score, precision_score, confusion_matrix\n",
    "import matplotlib.pyplot as plt\n",
    "import numpy as np\n",
    "import seaborn as sns"
   ]
  },
  {
   "cell_type": "code",
   "execution_count": 25,
   "metadata": {},
   "outputs": [],
   "source": [
    "# Create a confusion matrix\n",
    "cnf_matrix = metrics.confusion_matrix(ytest, preds)"
   ]
  },
  {
   "cell_type": "code",
   "execution_count": 26,
   "metadata": {},
   "outputs": [
    {
     "data": {
      "text/plain": [
       "Text(0.5, 257.44, 'Predicted label')"
      ]
     },
     "execution_count": 26,
     "metadata": {},
     "output_type": "execute_result"
    },
    {
     "data": {
      "image/png": "[encoded data removed]",
      "text/plain": [
       "<Figure size 432x288 with 2 Axes>"
      ]
     },
     "metadata": {
      "needs_background": "light"
     },
     "output_type": "display_data"
    }
   ],
   "source": [
    "# name  of classes\n",
    "class_names=[0,1] \n",
    "\n",
    "# Set fig and axes \n",
    "fig, ax = plt.subplots()\n",
    "tick_marks = np.arange(len(class_names))\n",
    "plt.xticks(tick_marks, class_names)\n",
    "plt.yticks(tick_marks, class_names)\n",
    "\n",
    "# Create heatmap\n",
    "sns.heatmap(pd.DataFrame(cnf_matrix), annot=True, cmap=\"YlGnBu\" ,fmt='g')\n",
    "ax.xaxis.set_label_position(\"top\")\n",
    "plt.tight_layout()\n",
    "plt.title('Confusion matrix', y=1.1)\n",
    "plt.ylabel('Actual label')\n",
    "plt.xlabel('Predicted label')"
   ]
  },
  {
   "cell_type": "code",
   "execution_count": 27,
   "metadata": {},
   "outputs": [],
   "source": [
    "# Assign True Neg, False Pos, False Neg, True Pos variables\n",
    "cnf_matrix = np.array(cnf_matrix).tolist()\n",
    "\n",
    "tn_fp, fn_tp = cnf_matrix\n",
    "\n",
    "tn, fp = tn_fp\n",
    "fn, tp = fn_tp"
   ]
  },
  {
   "cell_type": "code",
   "execution_count": 28,
   "metadata": {},
   "outputs": [
    {
     "name": "stdout",
     "output_type": "stream",
     "text": [
      "Accuracy: 92.08 %\n",
      "Precision: 93.44 %\n",
      "Recall: 90.59 %\n",
      "Specificity: 93.58 %\n",
      "Misclassification Rate: 7.83 %\n"
     ]
    }
   ],
   "source": [
    "# Print Scores \n",
    "\n",
    "print(\"Accuracy:\",round(metrics.accuracy_score(ytest, preds)*100, 2),'%')\n",
    "print(\"Precision:\",round(metrics.precision_score(ytest, preds)*100, 2), '%')\n",
    "print(\"Recall:\",round(metrics.recall_score(ytest, preds)*100, 2), '%')\n",
    "print(\"Specificity:\", round((tn/(tn+fp))*100, 2), '%')\n",
    "print(\"Misclassification Rate:\", round((fp+fn)/(tn+fp+fn+tn)*100, 2), '%')"
   ]
  },
  {
   "cell_type": "markdown",
   "metadata": {},
   "source": [
    "# Train the entire dataset on best perfoming model"
   ]
  },
  {
   "cell_type": "code",
   "execution_count": 29,
   "metadata": {},
   "outputs": [
    {
     "data": {
      "text/plain": [
       "LogisticRegression(C=12.5, max_iter=200)"
      ]
     },
     "execution_count": 29,
     "metadata": {},
     "output_type": "execute_result"
    }
   ],
   "source": [
    "model = \"LogisticRegression\"\n",
    "m = LogisticRegression(**MODELS[model], max_iter=200)\n",
    "m.fit(X, y)"
   ]
  },
  {
   "cell_type": "markdown",
   "metadata": {},
   "source": [
    "# Create prediction function"
   ]
  },
  {
   "cell_type": "code",
   "execution_count": 30,
   "metadata": {},
   "outputs": [],
   "source": [
    "def predict(new_text):\n",
    "    \n",
    "    \"\"\"\n",
    "    Takes the pre-trained model pipeline and predicts new artist based on unseen text.\n",
    "    \n",
    "    Parameters\n",
    "    ----------\n",
    "    model : Trained scikit-learn model pipeline.\n",
    "    new_text : str\n",
    "    \n",
    "    Returns\n",
    "    ---------\n",
    "    prediction : str\n",
    "    \n",
    "    \"\"\"\n",
    "    article = [new_text]\n",
    "    # transform song into vector matrix\n",
    "    new_article_vecs = cv.transform(article)\n",
    "    ynew = new_article_vecs.todense()\n",
    "    \n",
    "    prediction = m.predict(ynew)\n",
    "    \n",
    "    return prediction[0]"
   ]
  },
  {
   "cell_type": "code",
   "execution_count": 31,
   "metadata": {},
   "outputs": [
    {
     "name": "stdout",
     "output_type": "stream",
     "text": [
      "Please Enter Some Text: \"Para todos os meus pacientes: Gostaria de chamar sua atenção com urgência para questões importantes relacionadas à próxima vacinação contra Covid-19. Pela primeira vez na história da vacinação, as chamadas vacinas de mRNA de última geração intervêm diretamente no material genético do paciente e, portanto, alteram o material genético individual, que representa a manipulação genética, algo que já foi proibido e até então considerado criminoso. Essa intervenção pode ser comparada à de alimentos geneticamente manipulados, que também é altamente controversa. Mesmo que a mídia e os políticos atualmente banalizem o problema e até mesmo clamem estupidamente por um novo tipo de vacina para voltar à normalidade, essa vacinação é problemática em termos de saúde, moral e ética, e também em termos de danos genéticos que, ao contrário dos danos causados pelas vacinas anteriores, serão irreversíveis e irreparáveis. Caros pacientes, após uma vacina de mRNA sem precedentes, vocês não poderão mais tratar os sintomas da vacina de forma complementar. Eles terão que conviver com as consequências, porque não podem mais ser curados simplesmente removendo toxinas do corpo humano, assim como não se pode curar uma pessoa com um defeito genético como síndrome de Down, síndrome de Klinefelter, síndrome de Turner, parada cardíaca genética, hemofilia, fibrose cística, síndrome de Rett, etc.), porque o defeito genético é para sempre! Isso significa claramente: se um sintoma de vacinação se desenvolve após uma vacinação de mRNA, nem eu nem nenhum outro terapeuta pode ajudá-lo, porque o dano causado pela vacinação será geneticamente irreversível. Na minha opinião, essas novas vacinas representam um crime contra a humanidade que nunca foi cometido de forma tão grande na história. Como disse o Dr. Wolfgang Wodarg, um médico experiente: Na verdade, essa \"vacina promissora\" para a grande maioria das pessoas deveria ser PROIBIDA, porque é manipulação genética! \" A vacina, desenvolvida e endossada por Anthony Fauci e financiada por Bill Gates, e usa tecnologia experimental de mRNA. Três das 15 cobaias humanas (20%) experimentaram um \"evento adverso sério\". ... Nota: RNA mensageiro ou mRNA é o ácido ribonucléico que transfere o código genético do DNA do núcleo da célula para um ribossomo no citoplasma, ou seja, aquele que determina a ordem em que os aminoácidos de uma proteína se ligam e atuam como um molde ou padrão para a síntese da referida proteína. Recurso: Robert F. Kennedy, Jr. (https://en.m.wikipedia.org/wiki/Robert_F._Kennedy_Jr.) Vacina COVID = DANO GENÉTICO IRREVERSÍVEL - UM CRIME CONTRA A HUMANIDADE. [25/08 6:05 p. m.] +58 414-0750240: ESCLARECIMENTO PARA QUE A POPULAÇÃO NÃO SEJA MAIS ENGANADA: EXISTE OU NÃO, O CORONAVIRUS? - ESCLARECIMENTO: 1. O VÍRUS EXISTE? Sim, como muitos outros vírus. 2. TEM CURA? Sim, se você usa os medicamentos adequados e não deixa sua saúde nas mãos de sistemas de saúde corruptos e mercantis. 3. EXISTEM BONS MÉDICOS? Sim e muitos, uns estão agindo de forma discreta dando tratamentos adequados, outros têm sido mais corajosos e há muitos vídeos nas redes que falam desses tratamentos, e muitos já foram ameaçados, desclassificados ou silenciados. 4. OS CIENTISTAS ESTÃO INVESTIGANDO? Sim e existe um sindicato mundial convocado e convocando mais médicos e cientistas chamados Médicos e Cientistas pela Verdade, para expor a falsidade do tratamento que têm dado à questão do bug. 5. É UMA PANDEMIA? Não. A OMS mudou o termo que se referia à pandemia, antes que o bug fosse lançado para poder acabar com a pandemia. 6. É CONTAGIOSO? Sim, como toda gripe. 7. SE EU PEGAR O VÍRUS, SIGNIFICA QUE EU VOU MORRER? Não. Se tiver sintomas, basta tomar o remédio adequado desde o primeiro dia (fortalecer o sistema imunológico, tomar antiinflamatório e anti-gripe) e se curar em casa. 8. PODE SER PREVENIDO? Sim, estando limpo como sempre deveria estar, e mantendo um sistema imunológico elevado. E você também tem: Ozonoterapia, Dióxido de Cloro com o protocolo preventivo. 9. A CONTAGEM DE CONTAGIADOS E MORTOS PELO VÍRUS SÃO CERTAS? Não. Nos EUA foi descoberto que qualquer dado, seria na verdade 10% daquele número, porque as causas de mortes foram outras doenças, e os testes não são confiáveis, eles dão falsos positivos. 10. ASSINTOMATICOS SÃO CASOS REAIS DE POSITIVOS? O ser humano possui muitos microrganismos e vírus no corpo e isso não significa que você seja uma pessoa doente ou infectado, ou que tenha o vírus, porém, os vírus que são supostamente \"tão agressivos\" apresentam alguns sintomas nos pacientes porque o corpo libera alarmes de um intruso (febre, dor de cabeça, vômito, etc.) e de acordo com a teoria de Koch a resposta é NÃO. 11. O VÍRUS FOI CRIADO? Sim, em um laboratório. 13. PARA QUE PROPÓSITO? Para ser a desculpa para restringir as liberdades, mudar o sistema econômico atual para um mais opressor / escravizador, assustador, obediência de rebanho cego. 14. MUITOS PAÍSES FAZEM PARTE DESSE PLANO MALICIOSO? Sim. 15. SAIREMOS DISTO? Sim. E todos aqueles que contribuíram para as mortes e o plano cairão, e pagarão pelo que fizeram. 16. DEVO TER MEDO? Não. O medo diminui seu sistema imunológico e o torna mentalmente controlável. 17. A MÍDIA FAZ PARTE DO PLANO? Sim. Os donos da mídia são cumplices. Isso se chama controle da mente. 18. O QUE DEVO FAZER? Você se protege, e se adoecer já sabe como se curar em casa, ou com seu médico de confiança que não se comprometa com o protocolo de abandono. 19. DEVO SER VACINADO? Não. Você não precisa, se ficar saudável, as vacinas trazem produtos químicos, metais pesados e uma série de \"bichinhos\" que só vão afetar mais a sua saúde a médio e longo prazo, tanto física quanto mentalmente. É o seu corpo, e é seu direito decidir sobre ele, e sobre sua saúde física e mental. Você confiaria em uma vacina, depois que um vírus foi criado para exterminar a humanidade? 20. ISSO É UMA GUERRA? Sim.! E seremos vitoriosos!! Precisamos ficar juntos e acordar outras pessoas, dando muitas informações. Copiado ... colado Faça você também !!! \"Forçado a usar máscara, mas não a calar a boca.\"\n",
      "Here is your prediction!\n",
      "1\n"
     ]
    }
   ],
   "source": [
    "if __name__ == '__main__':\n",
    "    # Whatever happens after this line, execute it when running \"python lyrics_classifier.py\"\n",
    "    # and DO NOT execute these lines of code if things from this script are imported from other scripts.\n",
    "    \n",
    "    user_input = input('Please Enter Some Text: ')\n",
    "\n",
    "    prediction = predict(user_input)\n",
    "    print('Here is your prediction!')\n",
    "    print(prediction)"
   ]
  },
  {
   "cell_type": "code",
   "execution_count": null,
   "metadata": {},
   "outputs": [],
   "source": []
  }
 ],
 "metadata": {
  "kernelspec": {
   "display_name": "Python 3",
   "language": "python",
   "name": "python3"
  },
  "language_info": {
   "codemirror_mode": {
    "name": "ipython",
    "version": 3
   },
   "file_extension": ".py",
   "mimetype": "text/x-python",
   "name": "python",
   "nbconvert_exporter": "python",
   "pygments_lexer": "ipython3",
   "version": "3.7.6"
  }
 },
 "nbformat": 4,
 "nbformat_minor": 4
}
